{
 "cells": [
  {
   "cell_type": "code",
   "execution_count": 1,
   "metadata": {},
   "outputs": [],
   "source": [
    "import gymnasium as gym\n",
    "import numpy as np\n",
    "\n",
    "try:\n",
    "     del gym.envs.registry['lungs-v0']\n",
    "except:\n",
    "     pass\n",
    "\n",
    "gym.envs.register(\n",
    "     id='lungs-v0',\n",
    "     entry_point='simulator.envs.lung:LungEnv',\n",
    "     max_episode_steps=250,\n",
    ")\n",
    "\n",
    "G = 0.5\n",
    "LARGE_MAZE_DIVERSE_G = [[1, 1, 1, 1, 1, 1, 1, 1, 1, 1, 1, 1],\n",
    "                        [1, G, 0, 0, 0, 1, G, 0, 0, 0, 0, 1],\n",
    "                        [1, 0, 1, 1, 0, 1, 0, 1, 0, 1, 0, 1],\n",
    "                        [1, 0, 0, 0, 0, G, 0, 1, 0, 0, G, 1],\n",
    "                        [1, 0, 1, 1, 1, 1, 0, 1, 1, 1, 0, 1],\n",
    "                        [1, 0, G, 1, 0, 1, 0, 0, 0, 0, 0, 1],\n",
    "                        [1, 1, 0, 1, 0, 1, 0, 1, 0, 1, 1, 1],\n",
    "                        [1, 0, 0, 1, G, 0, G, 1, 0, G, 0, 1],\n",
    "                        [1, 1, 1, 1, 1, 1, 1, 1, 1, 1, 1, 1]]\n",
    "\n",
    "\n",
    "\n",
    "env = gym.make('lungs-v0', maze_map = LARGE_MAZE_DIVERSE_G, max_episode_steps=250)\n"
   ]
  },
  {
   "cell_type": "code",
   "execution_count": 2,
   "metadata": {},
   "outputs": [
    {
     "name": "stdout",
     "output_type": "stream",
     "text": [
      "Observation space: Dict('achieved_goal': Box(-inf, inf, (2,), float64), 'desired_goal': Box(-inf, inf, (2,), float64), 'maze_map': Box(-inf, inf, (108,), float64), 'observation': Box(-inf, inf, (4,), float64))\n",
      "Action space: Box(-1.0, 1.0, (2,), float32)\n"
     ]
    }
   ],
   "source": [
    "# Box(4,) means that it is a Vector with 4 components\n",
    "print(\"Observation space:\", env.observation_space)\n",
    "# Discrete(2) means that there is two discrete actions\n",
    "print(\"Action space:\", env.action_space)"
   ]
  },
  {
   "cell_type": "markdown",
   "metadata": {},
   "source": [
    "# Train"
   ]
  },
  {
   "cell_type": "code",
   "execution_count": 3,
   "metadata": {},
   "outputs": [
    {
     "data": {
      "application/vnd.jupyter.widget-view+json": {
       "model_id": "fd7d69f2fe6241f1bdd062530bce0bfe",
       "version_major": 2,
       "version_minor": 0
      },
      "text/plain": [
       "Output()"
      ]
     },
     "metadata": {},
     "output_type": "display_data"
    },
    {
     "data": {
      "text/html": [
       "<pre style=\"white-space:pre;overflow-x:auto;line-height:normal;font-family:Menlo,'DejaVu Sans Mono',consolas,'Courier New',monospace\"></pre>\n"
      ],
      "text/plain": []
     },
     "metadata": {},
     "output_type": "display_data"
    },
    {
     "name": "stderr",
     "output_type": "stream",
     "text": [
      "/home/flaccagora/.miniconda3/envs/RL/lib/python3.9/site-packages/stable_baselines3/common/vec_env/base_vec_env.py:243: UserWarning: You tried to call render() but no `render_mode` was passed to the env constructor.\n",
      "  warnings.warn(\"You tried to call render() but no `render_mode` was passed to the env constructor.\")\n"
     ]
    }
   ],
   "source": [
    "from stable_baselines3 import PPO\n",
    "\n",
    "model = PPO(\"MultiInputPolicy\", env, verbose=0, device='cpu')\n",
    "model.learn(total_timesteps=100, progress_bar=True)\n",
    "\n",
    "\n",
    "# vec_env = model.get_env()\n",
    "# obs = vec_env.reset()\n",
    "# for i in range(10):\n",
    "#     action, _states = model.predict(obs, deterministic=True)\n",
    "#     obs, reward, done, info = vec_env.step(action)\n",
    "#     vec_env.render()\n",
    "#     # VecEnv resets automatically\n",
    "#     # if done:\n",
    "#     #   obs = env.reset()\n",
    "\n",
    "env.close()"
   ]
  },
  {
   "cell_type": "markdown",
   "metadata": {},
   "source": [
    "# Save and/or Test"
   ]
  },
  {
   "cell_type": "code",
   "execution_count": 4,
   "metadata": {},
   "outputs": [],
   "source": [
    "model.save(\"models/ppo_lungs_1Mbis\")\n",
    "del model\n",
    "del env"
   ]
  },
  {
   "cell_type": "code",
   "execution_count": 7,
   "metadata": {},
   "outputs": [],
   "source": [
    "from stable_baselines3 import PPO\n",
    "\n",
    "model = PPO.load(\"models/ppo_lungs_1M\", device='cpu')\n",
    "env = gym.make('lungs-v0',render_mode ='human', maze_map = LARGE_MAZE_DIVERSE_G, max_episode_steps=250)"
   ]
  },
  {
   "cell_type": "code",
   "execution_count": 9,
   "metadata": {},
   "outputs": [],
   "source": [
    "observation, info = env.reset(seed=412)\n",
    "\n",
    "terminated = False\n",
    "truncated = False\n",
    "\n",
    "\n",
    "while True:\n",
    "    while not terminated and not truncated:\n",
    "        #action = policy(observation)  # custom policy\n",
    "        #action = env.action_space.sample()  #\n",
    "        action, _states = model.predict(observation, deterministic=True)\n",
    "        \n",
    "        observation, reward, terminated, truncated, info = env.step(action)\n",
    "\n",
    "    observation, info = env.reset()\n",
    "    terminated = False\n",
    "    truncated = False\n",
    "\n",
    "env.close()"
   ]
  }
 ],
 "metadata": {
  "kernelspec": {
   "display_name": "RL",
   "language": "python",
   "name": "python3"
  },
  "language_info": {
   "codemirror_mode": {
    "name": "ipython",
    "version": 3
   },
   "file_extension": ".py",
   "mimetype": "text/x-python",
   "name": "python",
   "nbconvert_exporter": "python",
   "pygments_lexer": "ipython3",
   "version": "3.9.19"
  }
 },
 "nbformat": 4,
 "nbformat_minor": 2
}
