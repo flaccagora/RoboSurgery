{
 "cells": [
  {
   "cell_type": "code",
   "execution_count": null,
   "metadata": {},
   "outputs": [],
   "source": [
    "import gymnasium as gym\n",
    "import numpy as np\n",
    "import torch\n",
    "import torch.nn as nn\n",
    "import torch.optim as optim\n",
    "import random\n",
    "from collections import deque\n",
    "import itertools\n",
    "from tqdm import tqdm, trange\n",
    "\n",
    "import os \n",
    "import sys\n",
    "\n",
    "sys.path.append(os.path.abspath('..'))\n",
    "\n",
    "from environment.env import GridEnvDeform, POMDPWrapper_v0, create_maze\n",
    "from agents.dqn import DoubleDQNAgent, QNetwork\n",
    "import matplotlib.pyplot as plt\n",
    "\n"
   ]
  },
  {
   "cell_type": "code",
   "execution_count": null,
   "metadata": {},
   "outputs": [
    {
     "data": {
      "image/png": "[encoded data removed]",
      "text/plain": [
       "<Figure size 640x480 with 1 Axes>"
      ]
     },
     "metadata": {},
     "output_type": "display_data"
    },
    {
     "name": "stdout",
     "output_type": "stream",
     "text": [
      "States: 236196, Actions: 4, Observations 32, Thetas [(1, 1), (1, 2), (1, 3), (1, 4), (1, 5), (1, 6), (1, 7), (1, 8), (1, 9), (2, 1), (2, 2), (2, 3), (2, 4), (2, 5), (2, 6), (2, 7), (2, 8), (2, 9), (3, 1), (3, 2), (3, 3), (3, 4), (3, 5), (3, 6), (3, 7), (3, 8), (3, 9), (4, 1), (4, 2), (4, 3), (4, 4), (4, 5), (4, 6), (4, 7), (4, 8), (4, 9), (5, 1), (5, 2), (5, 3), (5, 4), (5, 5), (5, 6), (5, 7), (5, 8), (5, 9), (6, 1), (6, 2), (6, 3), (6, 4), (6, 5), (6, 6), (6, 7), (6, 8), (6, 9), (7, 1), (7, 2), (7, 3), (7, 4), (7, 5), (7, 6), (7, 7), (7, 8), (7, 9), (8, 1), (8, 2), (8, 3), (8, 4), (8, 5), (8, 6), (8, 7), (8, 8), (8, 9), (9, 1), (9, 2), (9, 3), (9, 4), (9, 5), (9, 6), (9, 7), (9, 8), (9, 9)]\n",
      "\n"
     ]
    }
   ],
   "source": [
    "# maze size\n",
    "N = 2\n",
    "\n",
    "# thetas deformations (range(a,b),range(c,d))\n",
    "l0 = 1\n",
    "h0 = 10\n",
    "l1 = 1\n",
    "h1 = 10\n",
    "\n",
    "maze = np.load(\"../maze/maze_2.npy\")\n",
    "env = GridEnvDeform(maze,l0,h0,l1,h1)\n",
    "env.render()\n",
    "\n",
    "states = [((x,y,phi),(i,j)) for x in range(1,env.max_shape[0]-1) for y in range(1,env.max_shape[1]-1) for phi in range(4) for i in range(l0,h0) for j in range(l1,h1)] \n",
    "actions = [0,1,2,3]\n",
    "obs = list(itertools.product([0,1], repeat=5))\n",
    "thetas = [(i,j) for i in range(l0,h0) for j in range(l1,h1)]\n",
    "\n",
    "state_dict = {state: i for i, state in enumerate(states)}\n",
    "obs_dict = {obs : i for i, obs in enumerate(obs)}\n",
    "\n",
    "# Actions are: 0-listen, 1-open-left, 2-open-right\n",
    "lenS = len(states)\n",
    "lenA = len(actions)\n",
    "lenO = len(obs)\n",
    "\n",
    "print(f\"States: {lenS}, Actions: {lenA}, Observations {lenO}, Thetas {thetas}\\n\")\n",
    "\n",
    "\n",
    "print(\"setting reward function\\n\")\n",
    "R = torch.zeros(lenS,lenA,lenS)\n",
    "for s in range(lenS):\n",
    "    for a in range(lenA):\n",
    "        r = env.R(states[s],a)\n",
    "        for s_ in range(lenS):\n",
    "            R[s][a][s_] = r\n",
    "\n",
    "print(\"setting transition function\\n\")\n",
    "T = torch.zeros(lenS,lenA,lenS)\n",
    "for s, state in enumerate(states):\n",
    "    for a, action in enumerate(actions):\n",
    "        for s_, state_ in enumerate(states):\n",
    "            T[s,a,s_] = env.T(state,action,state_)\n",
    "\n",
    "print(\"setting observation function\\n\")\n",
    "O = torch.zeros(lenS,lenA,lenO)\n",
    "for s, state in enumerate(states):\n",
    "    for o, observation in enumerate(obs):\n",
    "        prob = env.O(state,action,observation)\n",
    "        for a, action in enumerate(actions):\n",
    "            O[s,a,o] = prob \n",
    "\n",
    "\n",
    "    for a in range(lenA):\n",
    "        r = env.R(states[s],a)\n",
    "        for s_ in range(lenS):\n",
    "            R[s][a][s_] = r\n",
    "\n",
    "print(\"setting transition function\\n\")\n",
    "T = torch.zeros(lenS,lenA,lenS)\n",
    "for s, state in enumerate(states):\n",
    "    for a, action in enumerate(actions):\n",
    "        for s_, state_ in enumerate(states):\n",
    "            T[s,a,s_] = env.T(state,action,state_)\n",
    "\n",
    "print(\"setting observation function\\n\")\n",
    "O = torch.zeros(lenS,lenA,lenO)\n",
    "for s, state in enumerate(states):\n",
    "    for o, observation in enumerate(obs):\n",
    "        prob = env.O(state,action,observation)\n",
    "        for a, action in enumerate(actions):\n",
    "            O[s,a,o] = prob \n",
    "\n",
    "\n",
    "\n",
    "print(\"transition probability shape: \", T.shape)\n",
    "print(\"reward shape: \", R.shape)\n",
    "print(\"observation shape: \", O.shape)\n",
    "\n"
   ]
  },
  {
   "cell_type": "code",
   "execution_count": 8,
   "metadata": {},
   "outputs": [
    {
     "name": "stdout",
     "output_type": "stream",
     "text": [
      "setting observation function\n",
      "\n"
     ]
    },
    {
     "ename": "KeyboardInterrupt",
     "evalue": "",
     "output_type": "error",
     "traceback": [
      "\u001b[0;31m---------------------------------------------------------------------------\u001b[0m",
      "\u001b[0;31mKeyboardInterrupt\u001b[0m                         Traceback (most recent call last)",
      "Cell \u001b[0;32mIn[8], line 6\u001b[0m\n\u001b[1;32m      4\u001b[0m \u001b[38;5;28;01mfor\u001b[39;00m o, observation \u001b[38;5;129;01min\u001b[39;00m \u001b[38;5;28menumerate\u001b[39m(obs):\n\u001b[1;32m      5\u001b[0m     prob \u001b[38;5;241m=\u001b[39m env\u001b[38;5;241m.\u001b[39mO(state,\u001b[38;5;241m0\u001b[39m,observation)\n\u001b[0;32m----> 6\u001b[0m     \u001b[43mO\u001b[49m\u001b[43m[\u001b[49m\u001b[43ms\u001b[49m\u001b[43m,\u001b[49m\u001b[43mo\u001b[49m\u001b[43m]\u001b[49m \u001b[38;5;241m=\u001b[39m prob \n",
      "\u001b[0;31mKeyboardInterrupt\u001b[0m: "
     ]
    }
   ],
   "source": [
    "print(\"setting observation function\\n\")\n",
    "O = torch.zeros(lenS,lenO)\n",
    "for s, state in enumerate(states):\n",
    "    for o, observation in enumerate(obs):\n",
    "        prob = env.O(state,0,observation)\n",
    "        O[s,o] = prob \n",
    "\n"
   ]
  },
  {
   "cell_type": "code",
   "execution_count": null,
   "metadata": {},
   "outputs": [],
   "source": [
    "torch.save(T, \"T_maze_2.pt\")\n",
    "torch.save(R, \"R_maze_2.pt\")\n",
    "torch.save(O, \"O_maze_2.pt\")"
   ]
  }
 ],
 "metadata": {
  "kernelspec": {
   "display_name": "rob",
   "language": "python",
   "name": "python3"
  },
  "language_info": {
   "codemirror_mode": {
    "name": "ipython",
    "version": 3
   },
   "file_extension": ".py",
   "mimetype": "text/x-python",
   "name": "python",
   "nbconvert_exporter": "python",
   "pygments_lexer": "ipython3",
   "version": "3.9.19"
  }
 },
 "nbformat": 4,
 "nbformat_minor": 2
}
