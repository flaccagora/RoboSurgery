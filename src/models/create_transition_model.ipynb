{
 "cells": [
  {
   "cell_type": "markdown",
   "metadata": {},
   "source": [
    "# create observation model\n",
    "\n",
    "\n",
    "poiché il Pombp ha bisogno di un modello probabilistico per le osservazioni, nello scenario reale è necessario costruirlo.\n",
    "\n",
    "L'idea è uella di allenare una rete a mappare le osservazioni in un maze deformato in osservazioni del maze originale. in uesto modo\n",
    "\n",
    "\n"
   ]
  },
  {
   "cell_type": "code",
   "execution_count": 1,
   "metadata": {},
   "outputs": [],
   "source": [
    "import gymnasium as gym\n",
    "import numpy as np\n",
    "import torch\n",
    "import torch.nn as nn\n",
    "import torch.optim as optim\n",
    "import random\n",
    "from collections import deque\n",
    "import itertools\n",
    "from tqdm import tqdm, trange\n",
    "\n",
    "import os \n",
    "import sys\n",
    "\n",
    "sys.path.append(os.path.abspath('..'))\n",
    "\n",
    "from environment.env import MDPGYMGridEnvDeform, create_maze\n",
    "import matplotlib.pyplot as plt\n",
    "\n"
   ]
  },
  {
   "cell_type": "code",
   "execution_count": 2,
   "metadata": {},
   "outputs": [
    {
     "name": "stdout",
     "output_type": "stream",
     "text": [
      "States: 9216, Actions: 4, Observations 32, Thetas [(1, 1), (1, 2), (1, 3), (1, 4), (2, 1), (2, 2), (2, 3), (2, 4), (3, 1), (3, 2), (3, 3), (3, 4), (4, 1), (4, 2), (4, 3), (4, 4)]\n",
      "\n"
     ]
    }
   ],
   "source": [
    "# maze size\n",
    "N = 2\n",
    "\n",
    "# thetas deformations (range(a,b),range(c,d))\n",
    "l0 = 1\n",
    "h0 = 5\n",
    "l1 = 1\n",
    "h1 = 5\n",
    "\n",
    "maze = np.load(\"../maze/maze_2.npy\")\n",
    "env = MDPGYMGridEnvDeform(maze,l0,h0,l1,h1)\n",
    "\n",
    "env.set_rendering()\n",
    "env.render()\n",
    "\n",
    "states = [((x,y,phi),(i,j)) for x in range(1,env.max_shape[0]-1) for y in range(1,env.max_shape[1]-1) for phi in range(4) for i in range(l0,h0) for j in range(l1,h1)] \n",
    "actions = [0,1,2,3]\n",
    "obs = list(itertools.product([0,1], repeat=5))\n",
    "thetas = [(i,j) for i in range(l0,h0) for j in range(l1,h1)]\n",
    "\n",
    "state_dict = {state: i for i, state in enumerate(states)}\n",
    "obs_dict = {obs : i for i, obs in enumerate(obs)}\n",
    "\n",
    "# Actions are: 0-listen, 1-open-left, 2-open-right\n",
    "lenS = len(states)\n",
    "lenA = len(actions)\n",
    "lenO = len(obs)\n",
    "\n",
    "print(f\"States: {lenS}, Actions: {lenA}, Observations {lenO}, Thetas {thetas}\\n\")\n",
    "\n"
   ]
  },
  {
   "cell_type": "code",
   "execution_count": null,
   "metadata": {},
   "outputs": [],
   "source": [
    "env.close()"
   ]
  },
  {
   "cell_type": "code",
   "execution_count": 9,
   "metadata": {},
   "outputs": [
    {
     "name": "stdout",
     "output_type": "stream",
     "text": [
      "(OrderedDict([('x', tensor([1], dtype=torch.int32)), ('y', tensor([1], dtype=torch.int32)), ('phi', tensor([0], dtype=torch.int32)), ('theta', tensor([1, 1]))]), {})\n",
      "[3 3]\n"
     ]
    }
   ],
   "source": [
    "print(env.reset(state=((1,1,0),(1,1))))\n",
    "print(env.goal_pos)\n",
    "env.render()"
   ]
  },
  {
   "cell_type": "code",
   "execution_count": 9,
   "metadata": {},
   "outputs": [
    {
     "name": "stderr",
     "output_type": "stream",
     "text": [
      "  0%|          | 0/1000 [00:00<?, ?it/s]"
     ]
    },
    {
     "name": "stdout",
     "output_type": "stream",
     "text": [
      "[9 9]\n"
     ]
    },
    {
     "name": "stderr",
     "output_type": "stream",
     "text": [
      "\n"
     ]
    },
    {
     "ename": "TypeError",
     "evalue": "cannot unpack non-iterable int object",
     "output_type": "error",
     "traceback": [
      "\u001b[0;31m---------------------------------------------------------------------------\u001b[0m",
      "\u001b[0;31mTypeError\u001b[0m                                 Traceback (most recent call last)",
      "Cell \u001b[0;32mIn[9], line 24\u001b[0m\n\u001b[1;32m     17\u001b[0m             dataset\u001b[38;5;241m.\u001b[39mappend({\n\u001b[1;32m     18\u001b[0m                 \u001b[38;5;124m'\u001b[39m\u001b[38;5;124mobs\u001b[39m\u001b[38;5;124m'\u001b[39m: obs,\n\u001b[1;32m     19\u001b[0m                 \u001b[38;5;124m'\u001b[39m\u001b[38;5;124mobs_new\u001b[39m\u001b[38;5;124m'\u001b[39m: obs_new\n\u001b[1;32m     20\u001b[0m             })\n\u001b[1;32m     22\u001b[0m     \u001b[38;5;28;01mreturn\u001b[39;00m dataset\n\u001b[0;32m---> 24\u001b[0m dataset \u001b[38;5;241m=\u001b[39m \u001b[43mcreate_dataset\u001b[49m\u001b[43m(\u001b[49m\u001b[43menv\u001b[49m\u001b[43m,\u001b[49m\u001b[43m \u001b[49m\u001b[38;5;241;43m1000\u001b[39;49m\u001b[43m)\u001b[49m\n",
      "Cell \u001b[0;32mIn[9], line 15\u001b[0m, in \u001b[0;36mcreate_dataset\u001b[0;34m(env, size)\u001b[0m\n\u001b[1;32m     13\u001b[0m         s_new \u001b[38;5;241m=\u001b[39m s_new \u001b[38;5;241m+\u001b[39m s[\u001b[38;5;241m2\u001b[39m] \u001b[38;5;241m+\u001b[39m theta\n\u001b[1;32m     14\u001b[0m         \u001b[38;5;28mprint\u001b[39m(s_new)\n\u001b[0;32m---> 15\u001b[0m         obs_new \u001b[38;5;241m=\u001b[39m \u001b[43menv\u001b[49m\u001b[38;5;241;43m.\u001b[39;49m\u001b[43mget_observation\u001b[49m\u001b[43m(\u001b[49m\u001b[43ms\u001b[49m\u001b[43m)\u001b[49m\n\u001b[1;32m     17\u001b[0m         dataset\u001b[38;5;241m.\u001b[39mappend({\n\u001b[1;32m     18\u001b[0m             \u001b[38;5;124m'\u001b[39m\u001b[38;5;124mobs\u001b[39m\u001b[38;5;124m'\u001b[39m: obs,\n\u001b[1;32m     19\u001b[0m             \u001b[38;5;124m'\u001b[39m\u001b[38;5;124mobs_new\u001b[39m\u001b[38;5;124m'\u001b[39m: obs_new\n\u001b[1;32m     20\u001b[0m         })\n\u001b[1;32m     22\u001b[0m \u001b[38;5;28;01mreturn\u001b[39;00m dataset\n",
      "File \u001b[0;32m~/Desktop/RoboSurgery/src/environment/env.py:894\u001b[0m, in \u001b[0;36mMDPGYMGridEnvDeform.get_observation\u001b[0;34m(self, s)\u001b[0m\n\u001b[1;32m    892\u001b[0m \u001b[38;5;28;01melse\u001b[39;00m:\n\u001b[1;32m    893\u001b[0m     prior_state \u001b[38;5;241m=\u001b[39m \u001b[38;5;28mself\u001b[39m\u001b[38;5;241m.\u001b[39mget_state()\n\u001b[0;32m--> 894\u001b[0m     \u001b[38;5;28;43mself\u001b[39;49m\u001b[38;5;241;43m.\u001b[39;49m\u001b[43mset_deformed_maze\u001b[49m\u001b[43m(\u001b[49m\u001b[43ms\u001b[49m\u001b[43m[\u001b[49m\u001b[38;5;241;43m1\u001b[39;49m\u001b[43m]\u001b[49m\u001b[43m)\u001b[49m\n\u001b[1;32m    895\u001b[0m     agent_pos \u001b[38;5;241m=\u001b[39m s[\u001b[38;5;241m0\u001b[39m][:\u001b[38;5;241m2\u001b[39m]\n\u001b[1;32m    896\u001b[0m     agent_orientation \u001b[38;5;241m=\u001b[39m s[\u001b[38;5;241m0\u001b[39m][\u001b[38;5;241m2\u001b[39m]\n",
      "File \u001b[0;32m~/Desktop/RoboSurgery/src/environment/env.py:928\u001b[0m, in \u001b[0;36mMDPGYMGridEnvDeform.set_deformed_maze\u001b[0;34m(self, thetas)\u001b[0m\n\u001b[1;32m    926\u001b[0m \u001b[38;5;28;01mdef\u001b[39;00m \u001b[38;5;21mset_deformed_maze\u001b[39m(\u001b[38;5;28mself\u001b[39m,thetas: \u001b[38;5;28mtuple\u001b[39m):\n\u001b[1;32m    927\u001b[0m     \u001b[38;5;28mself\u001b[39m\u001b[38;5;241m.\u001b[39mtheta \u001b[38;5;241m=\u001b[39m thetas\n\u001b[0;32m--> 928\u001b[0m     \u001b[38;5;28mself\u001b[39m\u001b[38;5;241m.\u001b[39mmaze \u001b[38;5;241m=\u001b[39m \u001b[38;5;28;43mself\u001b[39;49m\u001b[38;5;241;43m.\u001b[39;49m\u001b[43mstretch_maze\u001b[49m\u001b[43m(\u001b[49m\u001b[43mthetas\u001b[49m\u001b[43m)\u001b[49m\n\u001b[1;32m    929\u001b[0m     \u001b[38;5;66;03m# self.goal_pos = self.maze.shape - np.array([thetas[1],thetas[0]])\u001b[39;00m\n\u001b[1;32m    930\u001b[0m     \u001b[38;5;28mself\u001b[39m\u001b[38;5;241m.\u001b[39mgoal_pos \u001b[38;5;241m=\u001b[39m \u001b[38;5;28mself\u001b[39m\u001b[38;5;241m.\u001b[39moriginal_maze\u001b[38;5;241m.\u001b[39mshape \u001b[38;5;241m*\u001b[39m np\u001b[38;5;241m.\u001b[39marray([thetas[\u001b[38;5;241m1\u001b[39m],thetas[\u001b[38;5;241m0\u001b[39m]])\n",
      "File \u001b[0;32m~/Desktop/RoboSurgery/src/environment/env.py:939\u001b[0m, in \u001b[0;36mMDPGYMGridEnvDeform.stretch_maze\u001b[0;34m(self, thetas)\u001b[0m\n\u001b[1;32m    938\u001b[0m \u001b[38;5;28;01mdef\u001b[39;00m \u001b[38;5;21mstretch_maze\u001b[39m(\u001b[38;5;28mself\u001b[39m, thetas):\n\u001b[0;32m--> 939\u001b[0m     scale_x, scale_y \u001b[38;5;241m=\u001b[39m thetas\n\u001b[1;32m    940\u001b[0m     maze \u001b[38;5;241m=\u001b[39m \u001b[38;5;28mself\u001b[39m\u001b[38;5;241m.\u001b[39moriginal_maze\n\u001b[1;32m    942\u001b[0m     original_height, original_width \u001b[38;5;241m=\u001b[39m maze\u001b[38;5;241m.\u001b[39mshape\n",
      "\u001b[0;31mTypeError\u001b[0m: cannot unpack non-iterable int object"
     ]
    }
   ],
   "source": [
    "def s_to_array(s):\n",
    "    return [s['x'].item(), s['y'].item(), s['phi'].item(),s['theta'][0].item(), s['theta'][1].item()]\n",
    "\n",
    "def create_dataset(env: MDPGYMGridEnvDeform, size: int = 100):\n",
    "    dataset = []\n",
    "    for _ in tqdm(range(size)):\n",
    "        s, _  = env.reset()\n",
    "        obs = env.get_observation()\n",
    "        s = s_to_array(s)\n",
    "        for theta in env.deformations:\n",
    "            # come rimappare la posizione in base alla nuova theta?\n",
    "            s_new = s[:2] * np.array(theta) \n",
    "            s_new = s_new + s[2] + theta\n",
    "            print(s_new)\n",
    "            obs_new = env.get_observation(s)\n",
    "\n",
    "            dataset.append({\n",
    "                'obs': obs,\n",
    "                'obs_new': obs_new\n",
    "            })\n",
    "\n",
    "    return dataset\n",
    "\n",
    "dataset = create_dataset(env, 1000)"
   ]
  },
  {
   "cell_type": "code",
   "execution_count": null,
   "metadata": {},
   "outputs": [
    {
     "data": {
      "text/plain": [
       "{'obs': array([1, 1, 0, 0, 0]), 'obs_new': array([1, 1, 1, 1, 1])}"
      ]
     },
     "execution_count": 34,
     "metadata": {},
     "output_type": "execute_result"
    },
    {
     "ename": "",
     "evalue": "",
     "output_type": "error",
     "traceback": [
      "\u001b[1;31mThe Kernel crashed while executing code in the current cell or a previous cell. \n",
      "\u001b[1;31mPlease review the code in the cell(s) to identify a possible cause of the failure. \n",
      "\u001b[1;31mClick <a href='https://aka.ms/vscodeJupyterKernelCrash'>here</a> for more info. \n",
      "\u001b[1;31mView Jupyter <a href='command:jupyter.viewOutput'>log</a> for further details."
     ]
    }
   ],
   "source": [
    "dataset[50]"
   ]
  },
  {
   "cell_type": "code",
   "execution_count": null,
   "metadata": {},
   "outputs": [],
   "source": []
  }
 ],
 "metadata": {
  "kernelspec": {
   "display_name": "rob",
   "language": "python",
   "name": "python3"
  },
  "language_info": {
   "codemirror_mode": {
    "name": "ipython",
    "version": 3
   },
   "file_extension": ".py",
   "mimetype": "text/x-python",
   "name": "python",
   "nbconvert_exporter": "python",
   "pygments_lexer": "ipython3",
   "version": "3.9.19"
  }
 },
 "nbformat": 4,
 "nbformat_minor": 2
}
