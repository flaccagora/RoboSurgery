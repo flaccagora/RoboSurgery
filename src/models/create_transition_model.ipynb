{
 "cells": [
  {
   "cell_type": "markdown",
   "metadata": {},
   "source": [
    "# create observation model\n",
    "\n",
    "\n",
    "poiché il Pombp ha bisogno di un modello probabilistico per le osservazioni, nello scenario reale è necessario costruirlo.\n",
    "\n",
    "L'idea è uella di allenare una rete a mappare le osservazioni in un maze deformato in osservazioni del maze originale. in uesto modo\n",
    "\n",
    "\n"
   ]
  },
  {
   "cell_type": "code",
   "execution_count": 1,
   "metadata": {},
   "outputs": [],
   "source": [
    "import gymnasium as gym\n",
    "import numpy as np\n",
    "import torch\n",
    "import torch.nn as nn\n",
    "import torch.optim as optim\n",
    "import random\n",
    "from collections import deque\n",
    "import itertools\n",
    "from tqdm import tqdm, trange\n",
    "\n",
    "import os \n",
    "import sys\n",
    "\n",
    "sys.path.append(os.path.abspath('..'))\n",
    "\n",
    "from environment.env import MDPGYMGridEnvDeform, create_maze\n",
    "import matplotlib.pyplot as plt\n",
    "\n"
   ]
  },
  {
   "cell_type": "code",
   "execution_count": 2,
   "metadata": {},
   "outputs": [
    {
     "name": "stdout",
     "output_type": "stream",
     "text": [
      "States: 9216, Actions: 4, Observations 32, Thetas [(1, 1), (1, 2), (1, 3), (1, 4), (2, 1), (2, 2), (2, 3), (2, 4), (3, 1), (3, 2), (3, 3), (3, 4), (4, 1), (4, 2), (4, 3), (4, 4)]\n",
      "\n"
     ]
    }
   ],
   "source": [
    "# maze size\n",
    "N = 2\n",
    "\n",
    "# thetas deformations (range(a,b),range(c,d))\n",
    "l0 = 1\n",
    "h0 = 5\n",
    "l1 = 1\n",
    "h1 = 5\n",
    "\n",
    "maze = np.load(\"../maze/maze_2.npy\")\n",
    "env = MDPGYMGridEnvDeform(maze,l0,h0,l1,h1)\n",
    "\n",
    "env.set_rendering()\n",
    "env.render()\n",
    "\n",
    "states = [((x,y,phi),(i,j)) for x in range(1,env.max_shape[0]-1) for y in range(1,env.max_shape[1]-1) for phi in range(4) for i in range(l0,h0) for j in range(l1,h1)] \n",
    "actions = [0,1,2,3]\n",
    "obs = list(itertools.product([0,1], repeat=5))\n",
    "thetas = [(i,j) for i in range(l0,h0) for j in range(l1,h1)]\n",
    "\n",
    "state_dict = {state: i for i, state in enumerate(states)}\n",
    "obs_dict = {obs : i for i, obs in enumerate(obs)}\n",
    "\n",
    "# Actions are: 0-listen, 1-open-left, 2-open-right\n",
    "lenS = len(states)\n",
    "lenA = len(actions)\n",
    "lenO = len(obs)\n",
    "\n",
    "print(f\"States: {lenS}, Actions: {lenA}, Observations {lenO}, Thetas {thetas}\\n\")\n",
    "\n"
   ]
  },
  {
   "cell_type": "code",
   "execution_count": null,
   "metadata": {},
   "outputs": [],
   "source": [
    "env.close()"
   ]
  },
  {
   "cell_type": "code",
   "execution_count": 41,
   "metadata": {},
   "outputs": [],
   "source": [
    "env.render()"
   ]
  },
  {
   "cell_type": "code",
   "execution_count": 7,
   "metadata": {},
   "outputs": [
    {
     "name": "stdout",
     "output_type": "stream",
     "text": [
      "(OrderedDict([('x', tensor([4], dtype=torch.int32)), ('y', tensor([8], dtype=torch.int32)), ('phi', tensor([0], dtype=torch.int32)), ('theta', tensor([1, 1]))]), {})\n",
      "[3 3]\n"
     ]
    }
   ],
   "source": [
    "print(env.reset(state=(1,1)))\n",
    "print(env.goal_pos)\n",
    "env.render()"
   ]
  },
  {
   "cell_type": "code",
   "execution_count": 8,
   "metadata": {},
   "outputs": [
    {
     "name": "stderr",
     "output_type": "stream",
     "text": [
      "100%|██████████| 50000/50000 [00:09<00:00, 5286.81it/s]\n"
     ]
    }
   ],
   "source": [
    "def s_to_array(s):\n",
    "    return [s['x'].item(), s['y'].item(), s['phi'].item(),s['theta'][0].item(), s['theta'][1].item()]\n",
    "\n",
    "def create_dataset(env: MDPGYMGridEnvDeform, size: int = 100):\n",
    "    dataset = []\n",
    "    for _ in tqdm(range(size)):\n",
    "        s, _  = env.reset(state=(1,1))\n",
    "        obs = env.get_observation()\n",
    "        s = s_to_array(s)\n",
    "        # discard any position that is not in the maze\n",
    "        if s[0] >= env.original_maze.shape[0] or s[1] >= env.original_maze.shape[1]:\n",
    "            continue\n",
    "        for theta in env.deformations:\n",
    "            # come rimappare la posizione in base alla nuova theta?\n",
    "            s_new = s[:2] * np.array(theta) \n",
    "            s_new = np.append(s_new, s[2])\n",
    "            s_new = (tuple(s_new), theta)\n",
    "            # print(s_new)\n",
    "            obs_new = env.get_observation(s_new)\n",
    "\n",
    "            dataset.append({\n",
    "                'obs': obs,\n",
    "                'obs_new': obs_new,\n",
    "                'theta': theta,\n",
    "                's': s,\n",
    "            })\n",
    "\n",
    "    return dataset\n",
    "\n",
    "dataset = create_dataset(env, 50000)"
   ]
  },
  {
   "cell_type": "code",
   "execution_count": 9,
   "metadata": {},
   "outputs": [
    {
     "data": {
      "text/plain": [
       "(21680,\n",
       " {'obs': array([1, 0, 0, 1, 1]),\n",
       "  'obs_new': array([1, 1, 0, 1, 1]),\n",
       "  'theta': (1, 3),\n",
       "  's': [2, 1, 2, 1, 1]})"
      ]
     },
     "execution_count": 9,
     "metadata": {},
     "output_type": "execute_result"
    }
   ],
   "source": [
    "len(dataset), dataset[50]"
   ]
  },
  {
   "cell_type": "code",
   "execution_count": null,
   "metadata": {},
   "outputs": [],
   "source": []
  }
 ],
 "metadata": {
  "kernelspec": {
   "display_name": "rob",
   "language": "python",
   "name": "python3"
  },
  "language_info": {
   "codemirror_mode": {
    "name": "ipython",
    "version": 3
   },
   "file_extension": ".py",
   "mimetype": "text/x-python",
   "name": "python",
   "nbconvert_exporter": "python",
   "pygments_lexer": "ipython3",
   "version": "3.9.19"
  }
 },
 "nbformat": 4,
 "nbformat_minor": 2
}
