{
 "cells": [
  {
   "cell_type": "code",
   "execution_count": 1,
   "metadata": {},
   "outputs": [],
   "source": [
    "from env import GridEnvDeform, create_maze\n",
    "from dqn import DQNAgent\n",
    "from logger import Logger\n",
    "from belief import belief_entropy\n",
    "\n",
    "import torch\n",
    "from tqdm import tqdm\n",
    "from tqdm.auto import trange\n",
    "import os\n",
    "import argparse\n",
    "import itertools\n",
    "import numpy as np\n",
    "import time\n",
    "\n",
    "# maze size\n",
    "N = 2\n",
    "\n",
    "# thetas deformations (range(a,b),range(c,d))\n",
    "l0 = 1\n",
    "h0 = 3\n",
    "l1 = 1\n",
    "h1 = 2\n",
    "\n",
    "# belief update iterations\n",
    "iters = 25\n",
    "\n",
    "\n",
    "# MODEL\n",
    "\n",
    "MOVE_UP = 0\n",
    "MOVE_RIGHT = 1\n",
    "MOVE_DOWN = 2\n",
    "MOVE_LEFT = 3"
   ]
  },
  {
   "cell_type": "code",
   "execution_count": 2,
   "metadata": {},
   "outputs": [],
   "source": [
    "class POMDPWrapper_v0():\n",
    "    \"\"\"This is a wrapper for the GridEnvDeform class that makes the environment partially observable.\"\"\"\n",
    "\n",
    "    def __init__(self, env: GridEnvDeform, agent : DQNAgent, T,O,R,*args, **kwargs):\n",
    "\n",
    "        self.env = env\n",
    "        self.agent = agent\n",
    "        self.states = [((x,y,phi),(i,j)) for x in range(1,env.max_shape[0]-1) for y in range(1,env.max_shape[1]-1) for phi in range(4) for i in range(l0,h0) for j in range(l1,h1)] \n",
    "        self.actions = [0,1,2,3]\n",
    "        self.observations = list(itertools.product([0,1], repeat=5))\n",
    "        self.thetas = env.deformations\n",
    "\n",
    "        self.obs_dict = {obs : i for i, obs in enumerate(self.observations)}\n",
    "\n",
    "        # Transition, Observation and Reward model T(S,A,S'), O(S,A,O), R(S,A,S')\n",
    "        self.T = T\n",
    "        self.O = O\n",
    "        self.R = R\n",
    "\n",
    "    def reset(self):\n",
    "        return self.env.reset()\n",
    "\n",
    "    def step(self, action, execute=False):\n",
    "\n",
    "        \"\"\"Returns the next observation, reward, done, info. while\n",
    "        the base environment returns the next state, reward, done, info.\n",
    "        \"\"\"\n",
    "        \n",
    "        state = self.env.get_state() \n",
    "        obs = self.env.get_observation(state) \n",
    "\n",
    "        next_state, reward, terminated, truncated, info = self.env.step(action, execute=execute)\n",
    "        next_obs = self.env.get_observation(next_state)\n",
    "        \n",
    "        done = True if terminated else False\n",
    "        info = {\"actual_state\": next_state}\n",
    "\n",
    "        # return state, action, reward, next_state, done\n",
    "        # dovrei ritornare next_obs se c'è ancora obs TODO\n",
    "        return next_obs, reward, done, info \n",
    "    \n",
    "    def run(self, num_trajectories):\n",
    "        \"\"\" \n",
    "        The idea is to run the environment to populate the replay buffer with some data\n",
    "        transition for the POMDP should be like (belief, action, reward, next_belief, done)\n",
    "        \n",
    "        repeat\n",
    "        \n",
    "        Initialize belief if new episode\n",
    "        for all actions compute b,a,b',r and store in replay buffer\n",
    "        execute the best action in the environment\n",
    "        get new belief \n",
    "        \n",
    "        until populated replay buffer\n",
    "        \n",
    "        \"\"\"\n",
    "\n",
    "\n",
    "        # create a list of trajectories\n",
    "        trajectories = []\n",
    "\n",
    "        # Reset env and initialize belief \n",
    "        # Initialize belief (uniform distribution for now, probably need to change this)\n",
    "        # if self.env.is_done() or self.env.is_new():\n",
    "        self.env.reset()\n",
    "        b = (torch.ones(len(self.states)) / len(self.states))\n",
    "\n",
    "        while len(trajectories) < num_trajectories:\n",
    "            for a in self.env.actions:\n",
    "                next_obs, reward, done, _ = self.step(a)\n",
    "                b_prime = self.update_belief(b, a, next_obs)\n",
    "\n",
    "                # format state as dqn agent expects\n",
    "                # state['obs'] = b (percieved state)\n",
    "                # state['raw_legal_actions'] = actions\n",
    "                # state['legal_actions'] = actions\n",
    "                la =  {i:i for i in range(4)}\n",
    "                state = {'obs':b, 'raw_legal_actions':la, 'legal_actions':la}\n",
    "                next_state = {'obs':b_prime, 'raw_legal_actions':la, 'legal_actions':la}\n",
    "\n",
    "                # Store trajectory\n",
    "                # trajectories.append(({'obs':b}, a, reward, {'obs':b_prime}, done))\n",
    "                trajectories.append((state, a, reward, next_state, done))\n",
    "\n",
    "            # step in the environment\n",
    "            next_obs, reward, done, _ = self.step(self.agent.step(state), execute=True)\n",
    "            b = self.update_belief(b, a, next_obs)\n",
    "\n",
    "        \n",
    "        return trajectories\n",
    "\n",
    "    def update_belief(self, belief, action, observation):\n",
    "        \"\"\"\n",
    "        Perform a Bayesian belief update in a POMDP with action-dependent transition and observation models.\n",
    "\n",
    "        Parameters:\n",
    "            belief (torch.Tensor): Initial belief distribution over states, shape (num_states,)\n",
    "            T (torch.Tensor): Transition probabilities, shape (num_states, num_actions, num_states)\n",
    "            O (torch.Tensor): Observation probabilities, shape (num_states, num_actions, num_observations)\n",
    "            action (int): The action taken (index of action)\n",
    "            observation (int): The observation received (index of observation)\n",
    "\n",
    "        Returns:\n",
    "            torch.Tensor: The updated belief over states, shape (num_states,)\n",
    "        \"\"\"\n",
    "        # Prediction Step: Compute predicted belief over next states\n",
    "        predicted_belief = torch.matmul(belief, self.T[:, action])\n",
    "\n",
    "        # Update Step: Multiply by observation likelihood\n",
    "        observation_likelihood = self.O[:, action, self.obs_dict[tuple(observation.tolist())]]\n",
    "        new_belief = predicted_belief * observation_likelihood\n",
    "\n",
    "        # Normalize the updated belief to ensure it's a valid probability distribution\n",
    "        if new_belief.sum() > 0:\n",
    "            new_belief /= new_belief.sum() \n",
    "             \n",
    "        return new_belief\n",
    "    "
   ]
  },
  {
   "cell_type": "code",
   "execution_count": 3,
   "metadata": {},
   "outputs": [
    {
     "data": {
      "image/png": "[encoded data removed]",
      "text/plain": [
       "<Figure size 640x480 with 1 Axes>"
      ]
     },
     "metadata": {},
     "output_type": "display_data"
    }
   ],
   "source": [
    "maze = create_maze(N)\n",
    "env = GridEnvDeform(maze,l0,h0,l1,h1)\n",
    "env.render()"
   ]
  },
  {
   "cell_type": "code",
   "execution_count": 13,
   "metadata": {},
   "outputs": [
    {
     "name": "stdout",
     "output_type": "stream",
     "text": [
      "States: 144, Actions: 4, Observations 32, Thetas [(1, 1), (2, 1)]\n",
      "\n",
      "setting reward function\n",
      "\n",
      "setting transition function\n",
      "\n",
      "setting observation function\n",
      "\n",
      "transition probability shape:  torch.Size([144, 4, 144])\n",
      "reward shape:  torch.Size([144, 4, 144])\n",
      "observation shape:  torch.Size([144, 4, 32])\n"
     ]
    }
   ],
   "source": [
    "# s = [(x, y, phi), thetas]\n",
    "states = [((x,y,phi),(i,j)) for x in range(1,env.max_shape[0]-1) for y in range(1,env.max_shape[1]-1) for phi in range(4) for i in range(l0,h0) for j in range(l1,h1)] \n",
    "actions = [0,1,2,3]\n",
    "obs = list(itertools.product([0,1], repeat=5))\n",
    "thetas = [(i,j) for i in range(l0,h0) for j in range(l1,h1)]\n",
    "\n",
    "state_dict = {state: i for i, state in enumerate(states)}\n",
    "obs_dict = {obs : i for i, obs in enumerate(obs)}\n",
    "\n",
    "# Actions are: 0-listen, 1-open-left, 2-open-right\n",
    "lenS = len(states)\n",
    "lenA = len(actions)\n",
    "lenO = len(obs)\n",
    "\n",
    "print(f\"States: {lenS}, Actions: {lenA}, Observations {lenO}, Thetas {thetas}\\n\")\n",
    "\n",
    "\n",
    "print(\"setting reward function\\n\")\n",
    "R = torch.zeros(lenS,lenA,lenS)\n",
    "for s in range(lenS):\n",
    "    for a in range(lenA):\n",
    "        r = env.R(states[s],a)\n",
    "        for s_ in range(lenS):\n",
    "            R[s][a][s_] = r\n",
    "\n",
    "print(\"setting transition function\\n\")\n",
    "T = torch.zeros(lenS,lenA,lenS)\n",
    "for s, state in enumerate(states):\n",
    "    for a, action in enumerate(actions):\n",
    "        for s_, state_ in enumerate(states):\n",
    "            T[s,a,s_] = env.T(state,action,state_)\n",
    "\n",
    "print(\"setting observation function\\n\")\n",
    "O = torch.zeros(lenS,lenA,lenO)\n",
    "for s, state in enumerate(states):\n",
    "    for o, observation in enumerate(obs):\n",
    "        prob = env.O(state,action,observation)\n",
    "        for a, action in enumerate(actions):\n",
    "            O[s,a,o] = prob \n",
    "\n",
    "\n",
    "\n",
    "print(\"transition probability shape: \", T.shape)\n",
    "print(\"reward shape: \", R.shape)\n",
    "print(\"observation shape: \", O.shape)\n"
   ]
  },
  {
   "cell_type": "code",
   "execution_count": 14,
   "metadata": {},
   "outputs": [],
   "source": [
    "def parse():\n",
    "    parser = argparse.ArgumentParser(\"DQN for POMDPs Parser\")\n",
    "\n",
    "    parser.add_argument(\n",
    "        '--cuda',\n",
    "        type=str,\n",
    "        default='cpu',\n",
    "    )\n",
    "    parser.add_argument(\n",
    "        '--seed',\n",
    "        type=int,\n",
    "        default=42,\n",
    "    )\n",
    "    parser.add_argument(\n",
    "        '--num_episodes',\n",
    "        type=int,\n",
    "        default=100,\n",
    "    )\n",
    "    parser.add_argument(\n",
    "        '--num_eval_games',\n",
    "        type=int,\n",
    "        default=500,\n",
    "    )\n",
    "    parser.add_argument(\n",
    "        '--evaluate_every',\n",
    "        type=int,\n",
    "        default=5000,\n",
    "    )\n",
    "    parser.add_argument(\n",
    "        '--log_dir',\n",
    "        type=str,\n",
    "        default='logs/',\n",
    "    )\n",
    "\n",
    "    parser.add_argument(\n",
    "        \"--load_checkpoint_path\",\n",
    "        type=str,\n",
    "        default=\"models/\",\n",
    "    )\n",
    "\n",
    "    parser.add_argument(\n",
    "        \"--save_every\",\n",
    "        type=int,\n",
    "        default=25000\n",
    "    )\n",
    "\n",
    "    parser.add_argument(\n",
    "        \"--f\",\n",
    "        type=str,\n",
    "        default=\"\",\n",
    "    )\n",
    "    args = parser.parse_args()\n",
    "\n",
    "    os.environ[\"CUDA_VISIBLE_DEVICES\"] = args.cuda\n",
    "\n",
    "    # create directory if not exists\n",
    "    if not os.path.exists(args.log_dir):\n",
    "        os.makedirs(args.log_dir)\n",
    "\n",
    "    args.load_checkpoint_path = args.log_dir\n",
    "\n",
    "    return args\n",
    "\n",
    "args = parse()"
   ]
  },
  {
   "cell_type": "code",
   "execution_count": 27,
   "metadata": {},
   "outputs": [
    {
     "name": "stdout",
     "output_type": "stream",
     "text": [
      "----------------------------------------\n",
      "num_episodes: 100\n",
      "evaluate_every: 5000\n",
      "num_eval_games: 500\n",
      "save_every (checkpoints): 25000\n",
      "log_dir: logs/\n",
      "load_checkpoint_path: logs/\n",
      "seed: 42\n",
      "----------------------------------------\n",
      "\n",
      "Logs saved in logs/\n",
      "DEVICE : cpu\n"
     ]
    },
    {
     "data": {
      "application/vnd.jupyter.widget-view+json": {
       "model_id": "da2c8b3cf9e64042a25303290fef1b0c",
       "version_major": 2,
       "version_minor": 0
      },
      "text/plain": [
       "  0%|          | 0/100 [00:00<?, ?it/s]"
      ]
     },
     "metadata": {},
     "output_type": "display_data"
    },
    {
     "name": "stdout",
     "output_type": "stream",
     "text": [
      "INFO - Step 100, rl-loss: 3.9502434730529785\n",
      "INFO - Copied model parameters to target network.\n",
      "INFO - Step 5200, rl-loss: 1.3603516817092896\n",
      "Logs saved in logs/\n",
      "Model saved in logs/model.pth\n"
     ]
    }
   ],
   "source": [
    "\n",
    "info = [f'num_episodes: {args.num_episodes}',\n",
    "        f'evaluate_every: {args.evaluate_every}',\n",
    "        f'num_eval_games: {args.num_eval_games}',\n",
    "        f'save_every (checkpoints): {args.save_every}',\n",
    "        f'log_dir: {args.log_dir}',\n",
    "        f'load_checkpoint_path: {args.load_checkpoint_path}',\n",
    "        f'seed: {args.seed}'\n",
    "    ]\n",
    "\n",
    "with Logger(args.log_dir) as logger:\n",
    "        logger.log_info(info)\n",
    "        \n",
    "\n",
    "# Check whether gpu is available\n",
    "device = torch.device(\"cuda\" if torch.cuda.is_available() else \"cpu\")\n",
    "print(\"DEVICE :\", device)  \n",
    "\n",
    "\n",
    "# Initialize the agent and use random agents as opponents\n",
    "agent = DQNAgent(\n",
    "    num_actions=4,\n",
    "    state_shape=(len(states),),\n",
    "    mlp_layers=[64,64],\n",
    "    device=device,\n",
    "    save_path=args.log_dir,\n",
    "    save_every=args.save_every,\n",
    "    replay_memory_size=500,\n",
    "    batch_size=64,\n",
    ")\n",
    "\n",
    "env_wrapper = POMDPWrapper_v0(env, agent, T, O, R)\n",
    "   \n",
    "if args.load_checkpoint_path != \"\":\n",
    "        dirs = os.listdir(args.load_checkpoint_path)\n",
    "        \n",
    "        dirs = [d for d in dirs if d.startswith(\"checkpoint\")]\n",
    "        if dirs != []:\n",
    "            \n",
    "            dirs = sorted(dirs, key=lambda x: int(x.split(\"-\")[1].split(\".\")[0]))\n",
    "            path = args.load_checkpoint_path + \"/\" + dirs[-1] if len(dirs) > 0 else None\n",
    "        \n",
    "            agent = agent.from_checkpoint(checkpoint=torch.load(path))\n",
    "            agent.save_every = args.save_every\n",
    "            agent.save_path = args.log_dir\n",
    "\n",
    "\n",
    "start_episode = agent.train_t\n",
    "# Start training\n",
    "with Logger(args.log_dir) as logger:\n",
    "    for episode in trange(args.num_episodes):\n",
    "        if episode < start_episode:\n",
    "            continue\n",
    "\n",
    "        # Generate data from the environment\n",
    "        # payoffs: tuple (list of game payoffs, [player0's round_payoff, player1's round_payoff])\n",
    "        trajectories = env_wrapper.run(50)\n",
    "\n",
    "        # Reorganaize the data to be ts = state, action, reward, next_state, done\n",
    "        # Feed transitions into agent memory, and train the agent\n",
    "        for ts in trajectories:\n",
    "            agent.feed(ts)\n",
    "\n",
    "\n",
    "        # Evaluate the performance. Play with random agents.\n",
    "        if episode % args.evaluate_every == 0:                \n",
    "            pass\n",
    "\n",
    "\n",
    "# Save model\n",
    "save_path = os.path.join(args.log_dir, 'model.pth')\n",
    "torch.save(agent, save_path)\n",
    "print('Model saved in', save_path)\n"
   ]
  },
  {
   "cell_type": "code",
   "execution_count": 29,
   "metadata": {},
   "outputs": [
    {
     "name": "stdout",
     "output_type": "stream",
     "text": [
      "Initial state:  ((2, 3, 0), (1, 1))\n"
     ]
    },
    {
     "data": {
      "image/png": "[encoded data removed]",
      "text/plain": [
       "<Figure size 640x480 with 1 Axes>"
      ]
     },
     "metadata": {},
     "output_type": "display_data"
    },
    {
     "data": {
      "image/png": "[encoded data removed]",
      "text/plain": [
       "<Figure size 640x480 with 1 Axes>"
      ]
     },
     "metadata": {},
     "output_type": "display_data"
    },
    {
     "name": "stdout",
     "output_type": "stream",
     "text": [
      "Step:  9\n",
      "Timestep missing: 9  \n",
      "Total reward:     -2.5  \n",
      "Best action:  1\n",
      "argmax and max Belief:  ((1, 1, 0), (1, 1)) tensor(0.0069)\n"
     ]
    },
    {
     "data": {
      "image/png": "[encoded data removed]",
      "text/plain": [
       "<Figure size 640x480 with 1 Axes>"
      ]
     },
     "metadata": {},
     "output_type": "display_data"
    },
    {
     "name": "stdout",
     "output_type": "stream",
     "text": [
      "Step:  8\n",
      "Timestep missing: 8  \n",
      "Total reward:     -5.0  \n",
      "Best action:  0\n",
      "argmax and max Belief:  ((1, 1, 3), (1, 1)) tensor(0.0571)\n"
     ]
    },
    {
     "data": {
      "image/png": "[encoded data removed]",
      "text/plain": [
       "<Figure size 640x480 with 1 Axes>"
      ]
     },
     "metadata": {},
     "output_type": "display_data"
    },
    {
     "name": "stdout",
     "output_type": "stream",
     "text": [
      "Step:  7\n",
      "Timestep missing: 7  \n",
      "Total reward:     -7.5  \n",
      "Best action:  3\n",
      "argmax and max Belief:  ((1, 5, 0), (1, 1)) tensor(0.0938)\n"
     ]
    },
    {
     "data": {
      "image/png": "[encoded data removed]",
      "text/plain": [
       "<Figure size 640x480 with 1 Axes>"
      ]
     },
     "metadata": {},
     "output_type": "display_data"
    },
    {
     "name": "stdout",
     "output_type": "stream",
     "text": [
      "Step:  6\n",
      "Timestep missing: 6  \n",
      "Total reward:     -10.0  \n",
      "Best action:  2\n",
      "argmax and max Belief:  ((1, 6, 0), (1, 1)) tensor(0.2857)\n"
     ]
    },
    {
     "data": {
      "image/png": "[encoded data removed]",
      "text/plain": [
       "<Figure size 640x480 with 1 Axes>"
      ]
     },
     "metadata": {},
     "output_type": "display_data"
    },
    {
     "name": "stdout",
     "output_type": "stream",
     "text": [
      "Step:  5\n",
      "Timestep missing: 5  \n",
      "Total reward:     -12.5  \n",
      "Best action:  2\n",
      "argmax and max Belief:  ((2, 6, 2), (1, 1)) tensor(0.2857)\n"
     ]
    },
    {
     "data": {
      "image/png": "[encoded data removed]",
      "text/plain": [
       "<Figure size 640x480 with 1 Axes>"
      ]
     },
     "metadata": {},
     "output_type": "display_data"
    },
    {
     "name": "stdout",
     "output_type": "stream",
     "text": [
      "Step:  4\n",
      "Timestep missing: 4  \n",
      "Total reward:     -15.0  \n",
      "Best action:  1\n",
      "argmax and max Belief:  ((1, 6, 0), (1, 1)) tensor(0.2857)\n"
     ]
    },
    {
     "data": {
      "image/png": "[encoded data removed]",
      "text/plain": [
       "<Figure size 640x480 with 1 Axes>"
      ]
     },
     "metadata": {},
     "output_type": "display_data"
    },
    {
     "name": "stdout",
     "output_type": "stream",
     "text": [
      "Step:  3\n",
      "Timestep missing: 3  \n",
      "Total reward:     -17.5  \n",
      "Best action:  1\n",
      "argmax and max Belief:  ((1, 6, 1), (1, 1)) tensor(0.3810)\n"
     ]
    },
    {
     "data": {
      "image/png": "[encoded data removed]",
      "text/plain": [
       "<Figure size 640x480 with 1 Axes>"
      ]
     },
     "metadata": {},
     "output_type": "display_data"
    },
    {
     "name": "stdout",
     "output_type": "stream",
     "text": [
      "Step:  2\n",
      "Timestep missing: 2  \n",
      "Total reward:     -20.0  \n",
      "Best action:  0\n",
      "argmax and max Belief:  ((2, 6, 2), (1, 1)) tensor(0.3810)\n"
     ]
    },
    {
     "data": {
      "image/png": "[encoded data removed]",
      "text/plain": [
       "<Figure size 640x480 with 1 Axes>"
      ]
     },
     "metadata": {},
     "output_type": "display_data"
    },
    {
     "name": "stdout",
     "output_type": "stream",
     "text": [
      "Step:  1\n",
      "Timestep missing: 1  \n",
      "Total reward:     -22.5  \n",
      "Best action:  3\n",
      "argmax and max Belief:  ((3, 6, 2), (1, 1)) tensor(0.8000)\n"
     ]
    },
    {
     "data": {
      "image/png": "[encoded data removed]",
      "text/plain": [
       "<Figure size 640x480 with 1 Axes>"
      ]
     },
     "metadata": {},
     "output_type": "display_data"
    },
    {
     "name": "stdout",
     "output_type": "stream",
     "text": [
      "Step:  0\n",
      "Timestep missing: 0  \n",
      "Total reward:     -25.0  \n",
      "Best action:  1\n",
      "argmax and max Belief:  ((3, 6, 1), (1, 1)) tensor(0.8000)\n"
     ]
    }
   ],
   "source": [
    "# the simulation starts with given belief and random state\n",
    "b = torch.ones(len(states)) / len(states)\n",
    "s = np.random.randint(len(states))\n",
    "la =  {i:i for i in range(4)}\n",
    "\n",
    "print(\"Initial state: \", states[s])\n",
    "env.render(states[s])\n",
    "\n",
    "horizon = 10\n",
    "# We loop for each step we have yet to do.\n",
    "totalReward = 0.0\n",
    "for t in range(horizon - 1, -1, -1):\n",
    "    # We advance the world one step (the agent only sees the observation\n",
    "    # and reward).\n",
    "    best_action = agent.eval_step({'obs':b, 'raw_legal_actions':la, 'legal_actions':la})[0]\n",
    "    #best_action = np.random.choice([0,1,2,3])\n",
    "    next_obs, reward, done, info = env_wrapper.step(best_action, execute=True)\n",
    "    next_state = info['actual_state']\n",
    "    totalReward += reward\n",
    "    env.render()\n",
    "\n",
    "\n",
    "    next_belief = env_wrapper.update_belief(b, best_action, next_obs)\n",
    "    \n",
    "    print(\"Step: \", t)\n",
    "    print(\"Timestep missing: \" + str(t) + \"  \") # Print space after to clear\n",
    "    print(\"Total reward:     \" + str(totalReward) + \"  \")\n",
    "    print(\"Chosen action: \", best_action)\n",
    "    print(\"Actual State: \", next_state)\n",
    "    print(\"argmax and max Belief: \", states[torch.argmax(b)], torch.max(b))\n",
    "    print(\"Belief entropy: \", belief_entropy(b))\n",
    "\n",
    "    # Then we update the world\n",
    "    s = next_state\n",
    "    b = next_belief\n",
    "    # Sleep 1 second so the user can see what is happening.\n",
    "    time.sleep(1)\n"
   ]
  },
  {
   "cell_type": "code",
   "execution_count": 11,
   "metadata": {},
   "outputs": [
    {
     "name": "stdout",
     "output_type": "stream",
     "text": [
      "Entropy: 6.141250133514404\n"
     ]
    }
   ],
   "source": [
    "def entropy(probabilities):\n",
    "    \n",
    "    # Calculate entropy, avoiding log(0) by adding a mask\n",
    "    entropy = -torch.sum(probabilities * torch.log2(probabilities + (probabilities == 0).float()))\n",
    "    \n",
    "    return entropy.item()  # .item() to get a standard Python float\n",
    "\n",
    "# Example tensor of probabilities\n",
    "probabilities = [0.2, 0.3, 0.5]\n",
    "H = entropy(b)\n",
    "print(\"Entropy:\", H)\n"
   ]
  },
  {
   "cell_type": "markdown",
   "metadata": {},
   "source": [
    "# Belief update testing"
   ]
  },
  {
   "cell_type": "code",
   "execution_count": 6,
   "metadata": {},
   "outputs": [],
   "source": [
    "belief = torch.ones(len(states)) / len(states)\n",
    "action = 1\n",
    "observation = 31"
   ]
  },
  {
   "cell_type": "code",
   "execution_count": 7,
   "metadata": {},
   "outputs": [
    {
     "data": {
      "text/plain": [
       "(1, 1, 1, 1, 1)"
      ]
     },
     "execution_count": 7,
     "metadata": {},
     "output_type": "execute_result"
    }
   ],
   "source": [
    "obs[31]"
   ]
  },
  {
   "cell_type": "code",
   "execution_count": 8,
   "metadata": {},
   "outputs": [
    {
     "name": "stdout",
     "output_type": "stream",
     "text": [
      "observation:  (0, 0, 0, 1, 0) index  2 azzera il belief\n",
      "observation:  (0, 0, 1, 0, 1) index  5 azzera il belief\n",
      "observation:  (0, 0, 1, 1, 0) index  6 azzera il belief\n",
      "observation:  (0, 1, 0, 0, 0) index  8 azzera il belief\n",
      "observation:  (0, 1, 0, 0, 1) index  9 azzera il belief\n",
      "observation:  (0, 1, 0, 1, 0) index  10 azzera il belief\n",
      "observation:  (0, 1, 1, 0, 0) index  12 azzera il belief\n",
      "observation:  (0, 1, 1, 0, 1) index  13 azzera il belief\n",
      "observation:  (1, 0, 0, 1, 0) index  18 azzera il belief\n",
      "observation:  (1, 0, 1, 0, 0) index  20 azzera il belief\n",
      "observation:  (1, 0, 1, 0, 1) index  21 azzera il belief\n",
      "observation:  (1, 0, 1, 1, 0) index  22 azzera il belief\n",
      "observation:  (1, 0, 1, 1, 1) index  23 azzera il belief\n",
      "observation:  (1, 1, 1, 0, 1) index  29 azzera il belief\n"
     ]
    }
   ],
   "source": [
    "zeros_obs = []\n",
    "action = 3\n",
    "\n",
    "for observation, ob in enumerate(obs):\n",
    "    # Prediction Step: Compute predicted belief over next states\n",
    "    predicted_belief = torch.matmul(belief, T[:, action])\n",
    "\n",
    "    # Update Step: Multiply by observation likelihood\n",
    "    observation_likelihood = O[:, action, observation]\n",
    "    updated_belief = predicted_belief * observation_likelihood\n",
    "\n",
    "    # Normalize the updated belief to ensure it's a valid probability distribution\n",
    "    if updated_belief.sum() > 0:\n",
    "        updated_belief /= updated_belief.sum() \n",
    "\n",
    "    if np.all(torch.eq(updated_belief,torch.zeros_like(updated_belief)).numpy()):\n",
    "        print(\"observation: \", ob, \"index \", observation, \"azzera il belief\")\n",
    "        zeros_obs.append(ob)\n",
    "\n"
   ]
  },
  {
   "cell_type": "code",
   "execution_count": 9,
   "metadata": {},
   "outputs": [
    {
     "name": "stdout",
     "output_type": "stream",
     "text": [
      "[1 1 0 1 1]\n"
     ]
    },
    {
     "data": {
      "image/png": "[encoded data removed]",
      "text/plain": [
       "<Figure size 640x480 with 1 Axes>"
      ]
     },
     "metadata": {},
     "output_type": "display_data"
    }
   ],
   "source": [
    "env.set_state(states[3])\n",
    "print(env.get_observation(states[3]))\n",
    "env.render()"
   ]
  },
  {
   "cell_type": "code",
   "execution_count": 15,
   "metadata": {},
   "outputs": [
    {
     "data": {
      "text/plain": [
       "28"
      ]
     },
     "execution_count": 15,
     "metadata": {},
     "output_type": "execute_result"
    }
   ],
   "source": [
    "\n",
    "observation = obs_dict[(1, 1, 1, 0, 0)]\n",
    "action = 0\n",
    "observation"
   ]
  },
  {
   "cell_type": "code",
   "execution_count": 16,
   "metadata": {},
   "outputs": [
    {
     "data": {
      "text/plain": [
       "((np.int64(1), np.int64(1), 1), (2, 1))"
      ]
     },
     "execution_count": 16,
     "metadata": {},
     "output_type": "execute_result"
    }
   ],
   "source": [
    "env.get_state()"
   ]
  },
  {
   "cell_type": "code",
   "execution_count": 23,
   "metadata": {},
   "outputs": [
    {
     "data": {
      "text/plain": [
       "1.0"
      ]
     },
     "execution_count": 23,
     "metadata": {},
     "output_type": "execute_result"
    }
   ],
   "source": [
    "env.T(states[1],1,states[11])"
   ]
  },
  {
   "cell_type": "code",
   "execution_count": 18,
   "metadata": {},
   "outputs": [],
   "source": [
    "s = states[1]\n",
    "s_ = states[11]"
   ]
  },
  {
   "cell_type": "code",
   "execution_count": 19,
   "metadata": {},
   "outputs": [
    {
     "data": {
      "image/png": "[encoded data removed]",
      "text/plain": [
       "<Figure size 640x480 with 1 Axes>"
      ]
     },
     "metadata": {},
     "output_type": "display_data"
    },
    {
     "data": {
      "text/plain": [
       "((1, 1, 0), (2, 1))"
      ]
     },
     "execution_count": 19,
     "metadata": {},
     "output_type": "execute_result"
    }
   ],
   "source": [
    "env.render(states[1])\n",
    "states[1]"
   ]
  },
  {
   "cell_type": "code",
   "execution_count": 20,
   "metadata": {},
   "outputs": [
    {
     "data": {
      "text/plain": [
       "1.0"
      ]
     },
     "execution_count": 20,
     "metadata": {},
     "output_type": "execute_result"
    }
   ],
   "source": [
    "1. if np.all(env.step(1,states[1])[0] == states[11]) else 0"
   ]
  },
  {
   "cell_type": "code",
   "execution_count": 22,
   "metadata": {},
   "outputs": [
    {
     "data": {
      "image/png": "[encoded data removed]",
      "text/plain": [
       "<Figure size 640x480 with 1 Axes>"
      ]
     },
     "metadata": {},
     "output_type": "display_data"
    },
    {
     "data": {
      "text/plain": [
       "((np.int64(1), np.int64(2), 1), (2, 1))"
      ]
     },
     "execution_count": 22,
     "metadata": {},
     "output_type": "execute_result"
    }
   ],
   "source": [
    "env.step(1,execute=True)\n",
    "env.render()\n",
    "env.get_state()"
   ]
  },
  {
   "cell_type": "code",
   "execution_count": 24,
   "metadata": {},
   "outputs": [
    {
     "data": {
      "text/plain": [
       "11"
      ]
     },
     "execution_count": 24,
     "metadata": {},
     "output_type": "execute_result"
    }
   ],
   "source": [
    "state_dict[(np.int64(1), np.int64(2), 1), (2, 1)]"
   ]
  },
  {
   "cell_type": "code",
   "execution_count": 14,
   "metadata": {},
   "outputs": [],
   "source": [
    "\"\"\"\n",
    "Perform a Bayesian belief update in a POMDP with action-dependent transition and observation models.\n",
    "\n",
    "Parameters:\n",
    "    belief (torch.Tensor): Initial belief distribution over states, shape (num_states,)\n",
    "    transition_matrix (torch.Tensor): Transition probabilities, shape (num_states, num_actions, num_states)\n",
    "    observation_matrix (torch.Tensor): Observation probabilities, shape (num_states, num_actions, num_observations)\n",
    "    action (int): The action taken (index of action)\n",
    "    observation (int): The observation received (index of observation)\n",
    "\n",
    "Returns:\n",
    "    torch.Tensor: The updated belief over states, shape (num_states,)\n",
    "\"\"\"\n",
    "# Prediction Step: Compute predicted belief over next states\n",
    "predicted_belief = torch.matmul(belief, T[:, action])\n",
    "\n",
    "# Update Step: Multiply by observation likelihood\n",
    "observation_likelihood = O[:, action, observation]\n",
    "updated_belief = predicted_belief * observation_likelihood\n",
    "\n",
    "# Normalize the updated belief to ensure it's a valid probability distribution\n",
    "if updated_belief.sum() > 0:\n",
    "    updated_belief /= updated_belief.sum() \n",
    "\n"
   ]
  },
  {
   "cell_type": "code",
   "execution_count": 15,
   "metadata": {},
   "outputs": [
    {
     "data": {
      "text/plain": [
       "np.True_"
      ]
     },
     "execution_count": 15,
     "metadata": {},
     "output_type": "execute_result"
    }
   ],
   "source": [
    "np.all(torch.eq(updated_belief, new_belief).numpy())"
   ]
  },
  {
   "cell_type": "code",
   "execution_count": 16,
   "metadata": {},
   "outputs": [
    {
     "data": {
      "text/plain": [
       "tensor([0., 0., 0., 0., 0., 0., 0., 0., 0., 0., 0., 0., 0., 0., 0., 0., 0., 0., 0., 0., 0., 0., 0., 0.,\n",
       "        0., 0., 0., 0., 0., 0., 0., 0., 0., 0., 0., 0., 0., 0., 0., 0., 0., 0., 0., 0., 0., 0., 0., 0.,\n",
       "        0., 0., 0., 0., 0., 0., 0., 0., 0., 0., 0., 0., 0., 0., 0., 0., 0., 0., 0., 0., 0., 0., 0., 0.,\n",
       "        0., 0., 0., 0., 0., 0., 0., 0., 0., 0., 0., 0., 0., 0., 0., 0., 0., 0., 0., 0., 0., 0., 0., 0.,\n",
       "        0., 0., 0., 0., 0., 0., 0., 0., 0., 0., 0., 0., 0., 0., 0., 0., 0., 0., 0., 0., 0., 0., 0., 0.,\n",
       "        0., 0., 0., 0., 0., 0., 0., 0., 0., 0., 0., 0., 0., 0., 0., 0., 0., 0., 0., 0., 0., 0., 0., 0.,\n",
       "        0., 0., 0., 0., 0., 0., 0., 0., 0., 0., 0., 0., 0., 0., 0., 0., 0., 0., 0., 0., 0., 0., 0., 0.,\n",
       "        0., 0., 0., 0., 0., 0., 0., 0., 0., 0., 0., 0., 0., 0., 0., 0., 0., 0., 0., 0., 0., 0., 0., 0.,\n",
       "        0., 0., 0., 0., 0., 0., 0., 0., 0., 0., 0., 0., 0., 0., 0., 0., 0., 0., 0., 0., 0., 0., 0., 0.,\n",
       "        0., 0., 0., 0., 0., 0., 0., 0., 0., 0., 0., 0., 0., 0., 0., 0., 0., 0., 0., 0., 0., 0., 0., 0.,\n",
       "        0., 0., 0., 0., 0., 0., 0., 0., 0., 0., 0., 0., 0., 0., 0., 0., 0., 0., 0., 0., 0., 0., 0., 0.,\n",
       "        0., 0., 0., 0., 0., 0., 0., 0., 0., 0., 0., 0., 0., 0., 0., 0., 0., 0., 0., 0., 0., 0., 0., 0.,\n",
       "        0., 0., 0., 0., 0., 0., 0., 0., 0., 0., 0., 0., 0., 0., 0., 0., 0., 0., 0., 0., 0., 0., 0., 0.,\n",
       "        0., 0., 0., 0., 0., 0., 0., 0., 0., 0., 0., 0., 0., 0., 0., 0., 0., 0., 0., 0., 0., 0., 0., 0.,\n",
       "        0., 0., 0., 0., 0., 0., 0., 0., 0., 0., 0., 0., 0., 0., 0., 0., 0., 0., 0., 0., 0., 0., 0., 0.,\n",
       "        0., 0., 0., 0., 0., 0., 0., 0., 0., 0., 0., 0., 0., 0., 0., 0., 0., 0., 0., 0., 0., 0., 0., 0.,\n",
       "        0., 0., 0., 0., 0., 0., 0., 0., 0., 0., 0., 0., 0., 0., 0., 0.])"
      ]
     },
     "execution_count": 16,
     "metadata": {},
     "output_type": "execute_result"
    }
   ],
   "source": [
    "updated_belief"
   ]
  },
  {
   "cell_type": "code",
   "execution_count": 133,
   "metadata": {},
   "outputs": [
    {
     "name": "stdout",
     "output_type": "stream",
     "text": [
      "Initial state:  ((1, 7, 3), (1, 1))\n"
     ]
    },
    {
     "data": {
      "image/png": "[encoded data removed]",
      "text/plain": [
       "<Figure size 640x480 with 1 Axes>"
      ]
     },
     "metadata": {},
     "output_type": "display_data"
    }
   ],
   "source": [
    "# the simulation starts with given belief and random state\n",
    "b = torch.ones(len(states)) / len(states)\n",
    "s = np.random.randint(len(states))\n",
    "\n",
    "\n",
    "i = 54\n",
    "\n",
    "print(\"Initial state: \", states[i])\n",
    "env.render(states[i])\n"
   ]
  },
  {
   "cell_type": "code",
   "execution_count": 134,
   "metadata": {},
   "outputs": [
    {
     "name": "stdout",
     "output_type": "stream",
     "text": [
      "Observation:  (1, 1, 1, 1, 1) 31\n"
     ]
    }
   ],
   "source": [
    "for i, ob in enumerate(obs):\n",
    "    if np.all(ob == (1,1,1,1,1)):\n",
    "        print(\"Observation: \", ob, i)\n",
    "        break"
   ]
  },
  {
   "cell_type": "code",
   "execution_count": 135,
   "metadata": {},
   "outputs": [
    {
     "data": {
      "text/plain": [
       "(1, 1, 1, 1, 1)"
      ]
     },
     "execution_count": 135,
     "metadata": {},
     "output_type": "execute_result"
    }
   ],
   "source": [
    "ob"
   ]
  },
  {
   "cell_type": "code",
   "execution_count": 137,
   "metadata": {},
   "outputs": [
    {
     "data": {
      "text/plain": [
       "tensor(1)"
      ]
     },
     "execution_count": 137,
     "metadata": {},
     "output_type": "execute_result"
    }
   ],
   "source": [
    "O[54,0,31]"
   ]
  },
  {
   "cell_type": "code",
   "execution_count": 112,
   "metadata": {},
   "outputs": [],
   "source": [
    "b = env_wrapper.update_belief(b, 0, np.array([1,1,1,1,1]))\n"
   ]
  },
  {
   "cell_type": "code",
   "execution_count": 148,
   "metadata": {},
   "outputs": [],
   "source": [
    "b = torch.ones(len(states)) / len(states)"
   ]
  },
  {
   "cell_type": "code",
   "execution_count": 156,
   "metadata": {},
   "outputs": [
    {
     "name": "stdout",
     "output_type": "stream",
     "text": [
      "[0 1 1 1 1]\n",
      "observation:  [0 1 1 1 1] azzera il belief\n",
      "actual state ((np.int64(1), np.int64(1), np.int64(3)), (2, 1))\n",
      "0\n"
     ]
    },
    {
     "data": {
      "image/png": "[encoded data removed]",
      "text/plain": [
       "<Figure size 640x480 with 1 Axes>"
      ]
     },
     "metadata": {},
     "output_type": "display_data"
    },
    {
     "name": "stdout",
     "output_type": "stream",
     "text": [
      "argmax and max Belief:  ((1, 1, 0), (1, 1)) tensor(0.)\n"
     ]
    }
   ],
   "source": [
    "\n",
    "\n",
    "action = np.random.choice([0,1,2,3])\n",
    "next_obs, reward, done, info = env_wrapper.step(action, execute=True)\n",
    "print(next_obs)\n",
    "if np.any(next_obs==zeros_obs):\n",
    "    print(\"observation: \", next_obs, \"azzera il belief\")\n",
    "    b = torch.zeros_like(b)\n",
    "next_state = info['actual_state']\n",
    "print(\"actual state\",next_state)\n",
    "print(action)\n",
    "env.render()\n",
    "\n",
    "b = env_wrapper.update_belief(b, best_action, next_obs)\n",
    "\n",
    "print(\"argmax and max Belief: \", states[torch.argmax(b)], torch.max(b))\n",
    "\n",
    "\n"
   ]
  }
 ],
 "metadata": {
  "kernelspec": {
   "display_name": "rob",
   "language": "python",
   "name": "python3"
  },
  "language_info": {
   "codemirror_mode": {
    "name": "ipython",
    "version": 3
   },
   "file_extension": ".py",
   "mimetype": "text/x-python",
   "name": "python",
   "nbconvert_exporter": "python",
   "pygments_lexer": "ipython3",
   "version": "3.9.19"
  }
 },
 "nbformat": 4,
 "nbformat_minor": 2
}
