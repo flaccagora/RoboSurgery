{
 "cells": [
  {
   "cell_type": "code",
   "execution_count": 1,
   "metadata": {},
   "outputs": [],
   "source": [
    "from env import GridEnvDeform, create_maze\n",
    "from dqn import DQNAgent\n",
    "from logger import Logger\n",
    "from belief import belief_entropy, update_belief\n",
    "\n",
    "import torch\n",
    "from tqdm import tqdm\n",
    "from tqdm.auto import trange\n",
    "import os\n",
    "import argparse\n",
    "import itertools\n",
    "import numpy as np\n",
    "import time\n",
    "\n",
    "# maze size\n",
    "N = 2\n",
    "\n",
    "# thetas deformations (range(a,b),range(c,d))\n",
    "l0 = 1\n",
    "h0 = 3\n",
    "l1 = 1\n",
    "h1 = 2\n"
   ]
  },
  {
   "cell_type": "code",
   "execution_count": 2,
   "metadata": {},
   "outputs": [],
   "source": [
    "class POMDPWrapper_v0():\n",
    "    \"\"\"This is a wrapper for the GridEnvDeform class that makes the environment partially observable.\"\"\"\n",
    "\n",
    "    def __init__(self, env: GridEnvDeform, agent : DQNAgent, T,O,R,*args, **kwargs):\n",
    "\n",
    "        self.env = env\n",
    "        self.agent = agent\n",
    "        self.states = [((x,y,phi),(i,j)) for x in range(1,env.max_shape[0]-1) for y in range(1,env.max_shape[1]-1) for phi in range(4) for i in range(l0,h0) for j in range(l1,h1)] \n",
    "        self.actions = [0,1,2,3]\n",
    "        self.observations = list(itertools.product([0,1], repeat=5))\n",
    "        self.thetas = env.deformations\n",
    "\n",
    "        self.obs_dict = {obs : i for i, obs in enumerate(self.observations)}\n",
    "        self.state_dict = {state : i for i, state in enumerate(self.states)}\n",
    "        \n",
    "        # Transition, Observation and Reward model T(S,A,S'), O(S,A,O), R(S,A,S')\n",
    "        self.T = T\n",
    "        self.O = O\n",
    "        self.R = R\n",
    "    \n",
    "    def step(self, s,a):\n",
    "        s_prime = torch.argmax(self.T[s,a,:])\n",
    "        r = self.R[s,a,s_prime]\n",
    "        obs = torch.argmax(self.O[s_prime,0,:])\n",
    "        info = {\"actual_state\": s_prime.item()}\n",
    "\n",
    "        # done = True if np.all(self.states[s_prime.item()][0][:2] == self.env.goal_pos) else False\n",
    "        done = True if r.item() == 10 else False\n",
    "        \n",
    "        return obs.item(), r.item(), done , info \n",
    "    \n",
    "    def run(self, num_trajectories):\n",
    "        \"\"\" \n",
    "        The idea is to run the environment to populate the replay buffer with some data\n",
    "        transition for the POMDP should be like (belief, action, reward, next_belief, done)\n",
    "        \n",
    "        repeat\n",
    "        \n",
    "        Initialize belief if new episode\n",
    "        for all actions compute b,a,b',r and store in replay buffer\n",
    "        execute the best action in the environment\n",
    "        get new belief \n",
    "        \n",
    "        until populated replay buffer\n",
    "        \n",
    "        \"\"\"\n",
    "\n",
    "\n",
    "        # create a list of trajectories\n",
    "        trajectories = []\n",
    "\n",
    "        # Initialize belief (uniform distribution for now, probably need to change this)\n",
    "        b = (torch.ones(len(self.states)) / len(self.states))\n",
    "        s = np.random.randint(0,len(self.states))\n",
    "\n",
    "        while len(trajectories) < num_trajectories:\n",
    "            for a in self.env.actions:\n",
    "                next_obs, reward, done, _ = self.step(s, a)\n",
    "                b_prime = self.update_belief(b, a, next_obs)\n",
    "\n",
    "                # format state as dqn agent expects\n",
    "                # state['obs'] = b (percieved state)\n",
    "                # state['raw_legal_actions'] = actions\n",
    "                # state['legal_actions'] = actions\n",
    "                la =  {i:i for i in range(4)}\n",
    "                state = {'obs':b, 'raw_legal_actions':la, 'legal_actions':la}\n",
    "                next_state = {'obs':b_prime, 'raw_legal_actions':la, 'legal_actions':la}\n",
    "\n",
    "                # Store trajectory\n",
    "                # trajectories.append(({'obs':b}, a, reward, {'obs':b_prime}, done))\n",
    "                trajectories.append((state, a, reward, next_state, done))\n",
    "\n",
    "            # step in the environment\n",
    "            best_action = self.agent.step(state)    \n",
    "            next_obs, _, done, info = self.step(s,best_action)\n",
    "            b = self.update_belief(b, best_action, next_obs)\n",
    "            s = info['actual_state']\n",
    "            # if done:\n",
    "            #     s = np.random.randint(0,len(self.states))\n",
    "            #     b = (torch.ones(len(self.states)) / len(self.states))\n",
    "        \n",
    "        return trajectories\n",
    "\n",
    "   \n",
    "\n",
    "    def update_belief(self, belief, action, observation):\n",
    "        \"\"\"\n",
    "        Perform a Bayesian belief update in a POMDP with action-dependent transition and observation models.\n",
    "\n",
    "        Parameters:\n",
    "            belief (torch.Tensor): Initial belief distribution over states, shape (num_states,)\n",
    "            T (torch.Tensor): Transition probabilities, shape (num_states, num_actions, num_states)\n",
    "            O (torch.Tensor): Observation probabilities, shape (num_states, num_actions, num_observations)\n",
    "            action (int): The action taken (index of action)\n",
    "            observation (int): The observation received (index of observation)\n",
    "\n",
    "        Returns:\n",
    "            torch.Tensor: The updated belief over states, shape (num_states,)\n",
    "        \"\"\"\n",
    "        # Prediction Step: Compute predicted belief over next states\n",
    "        predicted_belief = torch.matmul(belief, self.T[:, action])\n",
    "\n",
    "        # Update Step: Multiply by observation likelihood\n",
    "        observation_likelihood = self.O[:, action, observation]\n",
    "        new_belief = predicted_belief * observation_likelihood\n",
    "\n",
    "        # Normalize the updated belief to ensure it's a valid probability distribution\n",
    "        if new_belief.sum() > 0:\n",
    "            new_belief /= new_belief.sum() \n",
    "             \n",
    "        return new_belief        \n"
   ]
  },
  {
   "cell_type": "code",
   "execution_count": 3,
   "metadata": {},
   "outputs": [
    {
     "data": {
      "image/png": "[encoded data removed]",
      "text/plain": [
       "<Figure size 640x480 with 1 Axes>"
      ]
     },
     "metadata": {},
     "output_type": "display_data"
    }
   ],
   "source": [
    "maze = create_maze(N)\n",
    "env = GridEnvDeform(maze,l0,h0,l1,h1)\n",
    "env.render()"
   ]
  },
  {
   "cell_type": "code",
   "execution_count": 4,
   "metadata": {},
   "outputs": [
    {
     "name": "stdout",
     "output_type": "stream",
     "text": [
      "States: 144, Actions: 4, Observations 32, Thetas [(1, 1), (2, 1)]\n",
      "\n",
      "setting reward function\n",
      "\n",
      "setting transition function\n",
      "\n",
      "setting observation function\n",
      "\n",
      "transition probability shape:  torch.Size([144, 4, 144])\n",
      "reward shape:  torch.Size([144, 4, 144])\n",
      "observation shape:  torch.Size([144, 4, 32])\n"
     ]
    }
   ],
   "source": [
    "states = [((x,y,phi),(i,j)) for x in range(1,env.max_shape[0]-1) for y in range(1,env.max_shape[1]-1) for phi in range(4) for i in range(l0,h0) for j in range(l1,h1)] \n",
    "actions = [0,1,2,3]\n",
    "obs = list(itertools.product([0,1], repeat=5))\n",
    "thetas = [(i,j) for i in range(l0,h0) for j in range(l1,h1)]\n",
    "\n",
    "state_dict = {state: i for i, state in enumerate(states)}\n",
    "obs_dict = {obs : i for i, obs in enumerate(obs)}\n",
    "\n",
    "# Actions are: 0-listen, 1-open-left, 2-open-right\n",
    "lenS = len(states)\n",
    "lenA = len(actions)\n",
    "lenO = len(obs)\n",
    "\n",
    "print(f\"States: {lenS}, Actions: {lenA}, Observations {lenO}, Thetas {thetas}\\n\")\n",
    "\n",
    "\n",
    "print(\"setting reward function\\n\")\n",
    "R = torch.zeros(lenS,lenA,lenS)\n",
    "for s in range(lenS):\n",
    "    for a in range(lenA):\n",
    "        r = env.R(states[s],a)\n",
    "        for s_ in range(lenS):\n",
    "            R[s][a][s_] = r\n",
    "\n",
    "print(\"setting transition function\\n\")\n",
    "T = torch.zeros(lenS,lenA,lenS)\n",
    "for s, state in enumerate(states):\n",
    "    for a, action in enumerate(actions):\n",
    "        for s_, state_ in enumerate(states):\n",
    "            T[s,a,s_] = env.T(state,action,state_)\n",
    "\n",
    "print(\"setting observation function\\n\")\n",
    "O = torch.zeros(lenS,lenA,lenO)\n",
    "for s, state in enumerate(states):\n",
    "    for o, observation in enumerate(obs):\n",
    "        prob = env.O(state,action,observation)\n",
    "        for a, action in enumerate(actions):\n",
    "            O[s,a,o] = prob \n",
    "\n",
    "\n",
    "\n",
    "print(\"transition probability shape: \", T.shape)\n",
    "print(\"reward shape: \", R.shape)\n",
    "print(\"observation shape: \", O.shape)\n"
   ]
  },
  {
   "cell_type": "code",
   "execution_count": 15,
   "metadata": {},
   "outputs": [],
   "source": [
    "def parse():\n",
    "    parser = argparse.ArgumentParser(\"DQN for POMDPs Parser\")\n",
    "\n",
    "    parser.add_argument(\n",
    "        '--cuda',\n",
    "        type=str,\n",
    "        default='cpu',\n",
    "    )\n",
    "    parser.add_argument(\n",
    "        '--seed',\n",
    "        type=int,\n",
    "        default=42,\n",
    "    )\n",
    "    parser.add_argument(\n",
    "        '--num_episodes',\n",
    "        type=int,\n",
    "        default=1000,\n",
    "    )\n",
    "    parser.add_argument(\n",
    "        '--num_eval_games',\n",
    "        type=int,\n",
    "        default=500,\n",
    "    )\n",
    "    parser.add_argument(\n",
    "        '--evaluate_every',\n",
    "        type=int,\n",
    "        default=5000,\n",
    "    )\n",
    "    parser.add_argument(\n",
    "        '--log_dir',\n",
    "        type=str,\n",
    "        default='logs/',\n",
    "    )\n",
    "\n",
    "    parser.add_argument(\n",
    "        \"--load_checkpoint_path\",\n",
    "        type=str,\n",
    "        default=\"\",\n",
    "    )\n",
    "\n",
    "    parser.add_argument(\n",
    "        \"--save_every\",\n",
    "        type=int,\n",
    "        default=25000\n",
    "    )\n",
    "\n",
    "    parser.add_argument(\n",
    "        \"--f\",\n",
    "        type=str,\n",
    "        default=\"\",\n",
    "    )\n",
    "    args = parser.parse_args()\n",
    "\n",
    "    os.environ[\"CUDA_VISIBLE_DEVICES\"] = args.cuda\n",
    "\n",
    "    # create directory if not exists\n",
    "    if not os.path.exists(args.log_dir):\n",
    "        os.makedirs(args.log_dir)\n",
    "\n",
    "\n",
    "    return args\n",
    "\n",
    "args = parse()"
   ]
  },
  {
   "cell_type": "code",
   "execution_count": 16,
   "metadata": {},
   "outputs": [
    {
     "name": "stdout",
     "output_type": "stream",
     "text": [
      "----------------------------------------\n",
      "num_episodes: 1000\n",
      "evaluate_every: 5000\n",
      "num_eval_games: 500\n",
      "save_every (checkpoints): 25000\n",
      "log_dir: logs/\n",
      "load_checkpoint_path: \n",
      "seed: 42\n",
      "----------------------------------------\n",
      "\n",
      "Logs saved in logs/\n",
      "DEVICE : cpu\n",
      "[Flatten(start_dim=1, end_dim=-1), BatchNorm1d(144, eps=1e-05, momentum=0.1, affine=True, track_running_stats=True), Linear(in_features=144, out_features=64, bias=True), ReLU(), Linear(in_features=64, out_features=64, bias=True), ReLU(), Linear(in_features=64, out_features=4, bias=True)]\n",
      "[Flatten(start_dim=1, end_dim=-1), BatchNorm1d(144, eps=1e-05, momentum=0.1, affine=True, track_running_stats=True), Linear(in_features=144, out_features=64, bias=True), ReLU(), Linear(in_features=64, out_features=64, bias=True), ReLU(), Linear(in_features=64, out_features=4, bias=True)]\n"
     ]
    },
    {
     "data": {
      "application/vnd.jupyter.widget-view+json": {
       "model_id": "4c94f8d13cf64d88ba4bc2698a525fc2",
       "version_major": 2,
       "version_minor": 0
      },
      "text/plain": [
       "  0%|          | 0/1000 [00:00<?, ?it/s]"
      ]
     },
     "metadata": {},
     "output_type": "display_data"
    },
    {
     "name": "stdout",
     "output_type": "stream",
     "text": [
      "INFO - Step 100, rl-loss: 3.5774343013763428\n",
      "INFO - Copied model parameters to target network.\n",
      "INFO - Step 10100, rl-loss: 5.98597908020019554\n",
      "INFO - Copied model parameters to target network.\n",
      "INFO - Step 20100, rl-loss: 48.061935424804695\n",
      "INFO - Copied model parameters to target network.\n",
      "INFO - Step 25099, rl-loss: 55.858512878417972\n",
      "INFO - Saved model checkpoint.\n",
      "INFO - Step 30100, rl-loss: 129.36805725097656\n",
      "INFO - Copied model parameters to target network.\n",
      "INFO - Step 32000, rl-loss: 2974.3923339843755\n",
      "Logs saved in logs/\n",
      "Model saved in logs/model.pth\n"
     ]
    }
   ],
   "source": [
    "\n",
    "info = [f'num_episodes: {args.num_episodes}',\n",
    "        f'evaluate_every: {args.evaluate_every}',\n",
    "        f'num_eval_games: {args.num_eval_games}',\n",
    "        f'save_every (checkpoints): {args.save_every}',\n",
    "        f'log_dir: {args.log_dir}',\n",
    "        f'load_checkpoint_path: {args.load_checkpoint_path}',\n",
    "        f'seed: {args.seed}'\n",
    "    ]\n",
    "\n",
    "with Logger(args.log_dir) as logger:\n",
    "        logger.log_info(info)\n",
    "        \n",
    "\n",
    "# Check whether gpu is available\n",
    "device = torch.device(\"cuda\" if torch.cuda.is_available() else \"cpu\")\n",
    "print(\"DEVICE :\", device)  \n",
    "\n",
    "\n",
    "# Initialize the agent and use random agents as opponents\n",
    "agent = DQNAgent(\n",
    "    num_actions=4,\n",
    "    state_shape=(len(states),),\n",
    "    mlp_layers=[64,64],\n",
    "    device=device,\n",
    "    save_path=args.log_dir,\n",
    "    save_every=args.save_every,\n",
    "    replay_memory_size=500,\n",
    "    replay_memory_init_size=100,\n",
    "    batch_size=64,  # batch size always less than initmemorysize\n",
    "\n",
    ")\n",
    "\n",
    "env_wrapper = POMDPWrapper_v0(env, agent, T, O, R)\n",
    "   \n",
    "if args.load_checkpoint_path != \"\":\n",
    "        dirs = os.listdir(args.load_checkpoint_path)\n",
    "        \n",
    "        dirs = [d for d in dirs if d.startswith(\"checkpoint\")]\n",
    "        if dirs != []:\n",
    "            \n",
    "            dirs = sorted(dirs, key=lambda x: int(x.split(\"-\")[1].split(\".\")[0]))\n",
    "            path = args.load_checkpoint_path + \"/\" + dirs[-1] if len(dirs) > 0 else None\n",
    "        \n",
    "            agent = agent.from_checkpoint(checkpoint=torch.load(path))\n",
    "            agent.save_every = args.save_every\n",
    "            agent.save_path = args.log_dir\n",
    "\n",
    "\n",
    "start_episode = agent.train_t\n",
    "# Start training\n",
    "with Logger(args.log_dir) as logger:\n",
    "    for episode in trange(args.num_episodes):\n",
    "        if episode < start_episode:\n",
    "            continue\n",
    "\n",
    "        # Generate data from the environment\n",
    "        # payoffs: tuple (list of game payoffs, [player0's round_payoff, player1's round_payoff])\n",
    "        trajectories = env_wrapper.run(32)\n",
    "\n",
    "        # Reorganaize the data to be ts = state, action, reward, next_state, done\n",
    "        # Feed transitions into agent memory, and train the agent\n",
    "        for ts in trajectories:\n",
    "            agent.feed(ts)\n",
    "\n",
    "\n",
    "        # Evaluate the performance. Play with random agents.\n",
    "        if episode % args.evaluate_every == 0:                \n",
    "            pass\n",
    "\n",
    "\n",
    "# Save model\n",
    "save_path = os.path.join(args.log_dir, 'model.pth')\n",
    "torch.save(agent, save_path)\n",
    "print('Model saved in', save_path)\n"
   ]
  },
  {
   "cell_type": "code",
   "execution_count": 17,
   "metadata": {},
   "outputs": [
    {
     "name": "stdout",
     "output_type": "stream",
     "text": [
      "Initial state:  ((3, 1, 0), (1, 1))\n"
     ]
    },
    {
     "data": {
      "image/png": "[encoded data removed]",
      "text/plain": [
       "<Figure size 640x480 with 1 Axes>"
      ]
     },
     "metadata": {},
     "output_type": "display_data"
    },
    {
     "data": {
      "image/png": "[encoded data removed]",
      "text/plain": [
       "<Figure size 640x480 with 1 Axes>"
      ]
     },
     "metadata": {},
     "output_type": "display_data"
    },
    {
     "name": "stdout",
     "output_type": "stream",
     "text": [
      "Step:  9\n",
      "Timestep missing: 9  \n",
      "Total reward:     -0.02500000037252903  \n",
      "Chosen action:  1\n",
      "Actual State:  ((3, 2, 1), (1, 1))\n",
      "argmax and max Belief:  ((1, 4, 3), (1, 1)) tensor(0.1667)\n",
      "Belief entropy:  2.5849626064300537\n"
     ]
    },
    {
     "data": {
      "image/png": "[encoded data removed]",
      "text/plain": [
       "<Figure size 640x480 with 1 Axes>"
      ]
     },
     "metadata": {},
     "output_type": "display_data"
    },
    {
     "name": "stdout",
     "output_type": "stream",
     "text": [
      "Step:  8\n",
      "Timestep missing: 8  \n",
      "Total reward:     9.974999999627471  \n",
      "Chosen action:  0\n",
      "Actual State:  ((3, 3, 1), (1, 1))\n",
      "argmax and max Belief:  ((1, 3, 0), (1, 1)) tensor(0.2500)\n",
      "Belief entropy:  2.0\n"
     ]
    },
    {
     "data": {
      "image/png": "[encoded data removed]",
      "text/plain": [
       "<Figure size 640x480 with 1 Axes>"
      ]
     },
     "metadata": {},
     "output_type": "display_data"
    },
    {
     "name": "stdout",
     "output_type": "stream",
     "text": [
      "Step:  7\n",
      "Timestep missing: 7  \n",
      "Total reward:     8.724999999627471  \n",
      "Chosen action:  0\n",
      "Actual State:  ((3, 4, 1), (1, 1))\n",
      "argmax and max Belief:  ((3, 4, 1), (1, 1)) tensor(1.)\n",
      "Belief entropy:  -0.0\n"
     ]
    },
    {
     "data": {
      "image/png": "[encoded data removed]",
      "text/plain": [
       "<Figure size 640x480 with 1 Axes>"
      ]
     },
     "metadata": {},
     "output_type": "display_data"
    },
    {
     "name": "stdout",
     "output_type": "stream",
     "text": [
      "Step:  6\n",
      "Timestep missing: 6  \n",
      "Total reward:     7.474999999627471  \n",
      "Chosen action:  3\n",
      "Actual State:  ((2, 4, 0), (1, 1))\n",
      "argmax and max Belief:  ((2, 4, 0), (1, 1)) tensor(1.)\n",
      "Belief entropy:  -0.0\n"
     ]
    },
    {
     "data": {
      "image/png": "[encoded data removed]",
      "text/plain": [
       "<Figure size 640x480 with 1 Axes>"
      ]
     },
     "metadata": {},
     "output_type": "display_data"
    },
    {
     "name": "stdout",
     "output_type": "stream",
     "text": [
      "Step:  5\n",
      "Timestep missing: 5  \n",
      "Total reward:     6.224999999627471  \n",
      "Chosen action:  0\n",
      "Actual State:  ((1, 4, 0), (1, 1))\n",
      "argmax and max Belief:  ((1, 4, 0), (1, 1)) tensor(1.)\n",
      "Belief entropy:  -0.0\n"
     ]
    },
    {
     "data": {
      "image/png": "[encoded data removed]",
      "text/plain": [
       "<Figure size 640x480 with 1 Axes>"
      ]
     },
     "metadata": {},
     "output_type": "display_data"
    },
    {
     "name": "stdout",
     "output_type": "stream",
     "text": [
      "Step:  4\n",
      "Timestep missing: 4  \n",
      "Total reward:     4.974999999627471  \n",
      "Chosen action:  0\n",
      "Actual State:  ((1, 4, 0), (1, 1))\n",
      "argmax and max Belief:  ((1, 4, 0), (1, 1)) tensor(1.)\n",
      "Belief entropy:  -0.0\n"
     ]
    },
    {
     "data": {
      "image/png": "[encoded data removed]",
      "text/plain": [
       "<Figure size 640x480 with 1 Axes>"
      ]
     },
     "metadata": {},
     "output_type": "display_data"
    },
    {
     "name": "stdout",
     "output_type": "stream",
     "text": [
      "Step:  3\n",
      "Timestep missing: 3  \n",
      "Total reward:     3.724999999627471  \n",
      "Chosen action:  2\n",
      "Actual State:  ((2, 4, 2), (1, 1))\n",
      "argmax and max Belief:  ((2, 4, 2), (1, 1)) tensor(1.)\n",
      "Belief entropy:  -0.0\n"
     ]
    },
    {
     "data": {
      "image/png": "[encoded data removed]",
      "text/plain": [
       "<Figure size 640x480 with 1 Axes>"
      ]
     },
     "metadata": {},
     "output_type": "display_data"
    },
    {
     "name": "stdout",
     "output_type": "stream",
     "text": [
      "Step:  2\n",
      "Timestep missing: 2  \n",
      "Total reward:     2.474999999627471  \n",
      "Chosen action:  2\n",
      "Actual State:  ((1, 4, 0), (1, 1))\n",
      "argmax and max Belief:  ((1, 4, 0), (1, 1)) tensor(1.)\n",
      "Belief entropy:  -0.0\n"
     ]
    },
    {
     "data": {
      "image/png": "[encoded data removed]",
      "text/plain": [
       "<Figure size 640x480 with 1 Axes>"
      ]
     },
     "metadata": {},
     "output_type": "display_data"
    },
    {
     "name": "stdout",
     "output_type": "stream",
     "text": [
      "Step:  1\n",
      "Timestep missing: 1  \n",
      "Total reward:     1.224999999627471  \n",
      "Chosen action:  0\n",
      "Actual State:  ((1, 4, 0), (1, 1))\n",
      "argmax and max Belief:  ((1, 4, 0), (1, 1)) tensor(1.)\n",
      "Belief entropy:  -0.0\n"
     ]
    },
    {
     "data": {
      "image/png": "[encoded data removed]",
      "text/plain": [
       "<Figure size 640x480 with 1 Axes>"
      ]
     },
     "metadata": {},
     "output_type": "display_data"
    },
    {
     "name": "stdout",
     "output_type": "stream",
     "text": [
      "Step:  0\n",
      "Timestep missing: 0  \n",
      "Total reward:     -0.02500000037252903  \n",
      "Chosen action:  1\n",
      "Actual State:  ((1, 5, 1), (1, 1))\n",
      "argmax and max Belief:  ((1, 5, 1), (1, 1)) tensor(1.)\n",
      "Belief entropy:  -0.0\n"
     ]
    }
   ],
   "source": [
    "# the simulation starts with given belief and random state\n",
    "b = torch.ones(len(states)) / len(states)\n",
    "s = np.random.randint(len(states))\n",
    "la =  {i:i for i in range(4)}\n",
    "\n",
    "print(\"Initial state: \", states[s])\n",
    "env.render(states[s])\n",
    "# obs = env.get_observation(states[s])\n",
    "# b = env_wrapper.update_belief(b, 0, obs)\n",
    "\n",
    "\n",
    "horizon = 10\n",
    "# We loop for each step we have yet to do.\n",
    "totalReward = 0.0\n",
    "for t in range(horizon - 1, -1, -1):\n",
    "    # We advance the world one step (the agent only sees the observation\n",
    "    # and reward).\n",
    "    #best_action = agent.eval_step({'obs':b, 'raw_legal_actions':la, 'legal_actions':la})[0]\n",
    "    best_action = np.random.choice([0,1,2,3])\n",
    "    next_obs, reward, done, info = env_wrapper.step(s, best_action)\n",
    "    next_state = info['actual_state']\n",
    "    totalReward += reward\n",
    "    env.render(states[next_state])\n",
    "\n",
    "\n",
    "    next_belief = env_wrapper.update_belief(b, best_action, next_obs)\n",
    "    \n",
    "    print(\"Step: \", t)\n",
    "    print(\"Timestep missing: \" + str(t) + \"  \") # Print space after to clear\n",
    "    print(\"Total reward:     \" + str(totalReward) + \"  \")\n",
    "    print(\"Chosen action: \", best_action)\n",
    "    print(\"Actual State: \", states[next_state])\n",
    "    print(\"argmax and max Belief: \", states[torch.argmax(next_belief)], torch.max(next_belief))\n",
    "    print(\"Belief entropy: \", belief_entropy(next_belief))\n",
    "\n",
    "    if t == 1:\n",
    "        assert states[torch.argmax(next_belief)] == states[next_state] \n",
    "    \n",
    "    # Then we update the world\n",
    "    s = next_state\n",
    "    b = next_belief\n",
    "    # Sleep 1 second so the user can see what is happening.\n",
    "    time.sleep(1)\n",
    "\n"
   ]
  },
  {
   "cell_type": "markdown",
   "metadata": {},
   "source": [
    "# Belief update testing"
   ]
  },
  {
   "cell_type": "code",
   "execution_count": 5,
   "metadata": {},
   "outputs": [
    {
     "name": "stdout",
     "output_type": "stream",
     "text": [
      "[Flatten(start_dim=1, end_dim=-1), BatchNorm1d(144, eps=1e-05, momentum=0.1, affine=True, track_running_stats=True), Linear(in_features=144, out_features=64, bias=True), ReLU(), Linear(in_features=64, out_features=64, bias=True), ReLU(), Linear(in_features=64, out_features=4, bias=True)]\n",
      "[Flatten(start_dim=1, end_dim=-1), BatchNorm1d(144, eps=1e-05, momentum=0.1, affine=True, track_running_stats=True), Linear(in_features=144, out_features=64, bias=True), ReLU(), Linear(in_features=64, out_features=64, bias=True), ReLU(), Linear(in_features=64, out_features=4, bias=True)]\n"
     ]
    }
   ],
   "source": [
    "agent = DQNAgent(\n",
    "    num_actions=4,\n",
    "    state_shape=(len(states),),\n",
    "    mlp_layers=[64,64],\n",
    "    device='cpu',\n",
    "    replay_memory_size=500,\n",
    "    replay_memory_init_size=100,\n",
    "    batch_size=64,  # batch size always less than initmemorysize\n",
    "\n",
    ")\n",
    "\n",
    "env_wrapper = POMDPWrapper_v0(env, agent, T, O, R)\n"
   ]
  },
  {
   "cell_type": "code",
   "execution_count": 49,
   "metadata": {},
   "outputs": [
    {
     "data": {
      "image/png": "[encoded data removed]",
      "text/plain": [
       "<Figure size 640x480 with 1 Axes>"
      ]
     },
     "metadata": {},
     "output_type": "display_data"
    }
   ],
   "source": [
    "env.render()"
   ]
  },
  {
   "cell_type": "code",
   "execution_count": 6,
   "metadata": {},
   "outputs": [],
   "source": [
    "belief = torch.ones(len(states)) / len(states)\n",
    "action = 1\n",
    "observation = 31"
   ]
  },
  {
   "cell_type": "code",
   "execution_count": 14,
   "metadata": {},
   "outputs": [],
   "source": [
    "\"\"\"\n",
    "Perform a Bayesian belief update in a POMDP with action-dependent transition and observation models.\n",
    "\n",
    "Parameters:\n",
    "    belief (torch.Tensor): Initial belief distribution over states, shape (num_states,)\n",
    "    transition_matrix (torch.Tensor): Transition probabilities, shape (num_states, num_actions, num_states)\n",
    "    observation_matrix (torch.Tensor): Observation probabilities, shape (num_states, num_actions, num_observations)\n",
    "    action (int): The action taken (index of action)\n",
    "    observation (int): The observation received (index of observation)\n",
    "\n",
    "Returns:\n",
    "    torch.Tensor: The updated belief over states, shape (num_states,)\n",
    "\"\"\"\n",
    "# Prediction Step: Compute predicted belief over next states\n",
    "predicted_belief = torch.matmul(belief, T[:, action])\n",
    "\n",
    "# Update Step: Multiply by observation likelihood\n",
    "observation_likelihood = O[:, action, observation]\n",
    "updated_belief = predicted_belief * observation_likelihood\n",
    "\n",
    "# Normalize the updated belief to ensure it's a valid probability distribution\n",
    "if updated_belief.sum() > 0:\n",
    "    updated_belief /= updated_belief.sum() \n",
    "\n"
   ]
  },
  {
   "cell_type": "code",
   "execution_count": 6,
   "metadata": {},
   "outputs": [
    {
     "name": "stdout",
     "output_type": "stream",
     "text": [
      "Initial state:  ((1, 7, 3), (1, 1))\n"
     ]
    },
    {
     "data": {
      "image/png": "[encoded data removed]",
      "text/plain": [
       "<Figure size 640x480 with 1 Axes>"
      ]
     },
     "metadata": {},
     "output_type": "display_data"
    }
   ],
   "source": [
    "# the simulation starts with given belief and random state\n",
    "b = torch.ones(len(states)) / len(states)\n",
    "s = np.random.randint(len(states))\n",
    "\n",
    "\n",
    "i = 54\n",
    "\n",
    "print(\"Initial state: \", states[i])\n",
    "env.render(states[i])\n"
   ]
  },
  {
   "cell_type": "code",
   "execution_count": 24,
   "metadata": {},
   "outputs": [
    {
     "data": {
      "image/png": "[encoded data removed]",
      "text/plain": [
       "<Figure size 640x480 with 1 Axes>"
      ]
     },
     "metadata": {},
     "output_type": "display_data"
    }
   ],
   "source": [
    "# the simulation starts with given belief and random state\n",
    "b = torch.ones(len(states)) / len(states)\n",
    "s = np.random.randint(len(states))\n",
    "\n",
    "env.render(states[s])"
   ]
  }
 ],
 "metadata": {
  "kernelspec": {
   "display_name": "rob",
   "language": "python",
   "name": "python3"
  },
  "language_info": {
   "codemirror_mode": {
    "name": "ipython",
    "version": 3
   },
   "file_extension": ".py",
   "mimetype": "text/x-python",
   "name": "python",
   "nbconvert_exporter": "python",
   "pygments_lexer": "ipython3",
   "version": "3.9.19"
  }
 },
 "nbformat": 4,
 "nbformat_minor": 2
}
