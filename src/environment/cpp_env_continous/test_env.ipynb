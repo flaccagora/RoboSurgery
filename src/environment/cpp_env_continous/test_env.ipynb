{
 "cells": [
  {
   "cell_type": "code",
   "execution_count": 10,
   "metadata": {},
   "outputs": [
    {
     "name": "stdout",
     "output_type": "stream",
     "text": [
      "Observation: {'theta': [1.1186171937151383, 0.27969099761266125, 0.09685016158005655, 0.8733739151573474], 'pos': [0.0, 0.0]}, Reward: -2.0, Terminated: False, Info: {'collision': True}\n",
      "Observation: {'theta': [1.1186171937151383, 0.27969099761266125, 0.09685016158005655, 0.8733739151573474], 'pos': [0.0, 0.0]}, Reward: -2.0, Terminated: False, Info: {'collision': True}\n",
      "Observation: {'theta': [1.1186171937151383, 0.27969099761266125, 0.09685016158005655, 0.8733739151573474], 'pos': [0.0, 0.0]}, Reward: -2.0, Terminated: False, Info: {'collision': True}\n",
      "Observation: {'theta': [1.1186171937151383, 0.27969099761266125, 0.09685016158005655, 0.8733739151573474], 'pos': [0.0, 0.0]}, Reward: -2.0, Terminated: False, Info: {'collision': True}\n",
      "Observation: {'theta': [1.1186171937151383, 0.27969099761266125, 0.09685016158005655, 0.8733739151573474], 'pos': [0.0, 0.0]}, Reward: -2.0, Terminated: False, Info: {'collision': True}\n",
      "Observation: {'theta': [1.1186171937151383, 0.27969099761266125, 0.09685016158005655, 0.8733739151573474], 'pos': [0.0, 0.0]}, Reward: -2.0, Terminated: False, Info: {'collision': True}\n",
      "Observation: {'theta': [1.1186171937151383, 0.27969099761266125, 0.09685016158005655, 0.8733739151573474], 'pos': [0.0, 0.0]}, Reward: -2.0, Terminated: False, Info: {'collision': True}\n",
      "Observation: {'theta': [1.1186171937151383, 0.27969099761266125, 0.09685016158005655, 0.8733739151573474], 'pos': [0.0, 0.0]}, Reward: -2.0, Terminated: False, Info: {'collision': True}\n",
      "Observation: {'theta': [1.1186171937151383, 0.27969099761266125, 0.09685016158005655, 0.8733739151573474], 'pos': [0.0, 0.0]}, Reward: -2.0, Terminated: False, Info: {'collision': True}\n",
      "Observation: {'theta': [1.1186171937151383, 0.27969099761266125, 0.09685016158005655, 0.8733739151573474], 'pos': [0.0, 0.0]}, Reward: -2.0, Terminated: False, Info: {'collision': True}\n"
     ]
    }
   ],
   "source": [
    "import gridworld\n",
    "\n",
    "# Define parameters for the gridworld\n",
    "grid_size = [10.0, 10.0]\n",
    "step_size = 0.5\n",
    "goal = [8.0, 8.0]\n",
    "obstacles = [\n",
    "    [[2.0, 2.0], [4.0, 4.0]],  # Example obstacle as a parallelogram\n",
    "    [[6.0, 6.0], [7.0, 7.0]]\n",
    "]\n",
    "stretch = [1.0, 1.0]  # Default stretch factors\n",
    "shear = [0.0, 0.0]  # Default shear factors\n",
    "observation_radius = 1.0\n",
    "shear_range = [-0.5, 0.5]\n",
    "stretch_range = [0.8, 1.2]\n",
    "\n",
    "# Instantiate the ObservableDeformedGridworld\n",
    "env = gridworld.ObservableDeformedGridworld(\n",
    "    grid_size,\n",
    "    step_size,\n",
    "    goal,\n",
    "    obstacles,\n",
    "    stretch,\n",
    "    shear,\n",
    "    observation_radius,\n",
    "    shear_range,\n",
    "    stretch_range\n",
    ")\n",
    "\n",
    "# Reset the environment\n",
    "env.reset(42)\n",
    "\n",
    "# Example interaction loop\n",
    "for _ in range(10):\n",
    "    action = 0  # Example action (0: move up)\n",
    "    observation, reward, terminated,truncated, info = env.step(action)\n",
    "    print(f\"Observation: {observation}, Reward: {reward}, Terminated: {terminated}, Info: {info}\")\n",
    "    if terminated:\n",
    "        break\n"
   ]
  },
  {
   "cell_type": "code",
   "execution_count": 15,
   "metadata": {},
   "outputs": [],
   "source": [
    "class Grid(gridworld.ObservableDeformedGridworld):\n",
    "    def __init__(self, grid_size, step_size, goal, obstacles, stretch, shear, observation_radius, shear_range, stretch_range):\n",
    "        super().__init__(grid_size, step_size, goal, obstacles, stretch, shear, observation_radius, shear_range, stretch_range)\n",
    "\n",
    "env = Grid(grid_size, step_size, goal, obstacles, stretch, shear, observation_radius, shear_range, stretch_range)"
   ]
  }
 ],
 "metadata": {
  "kernelspec": {
   "display_name": "robogym",
   "language": "python",
   "name": "python3"
  },
  "language_info": {
   "codemirror_mode": {
    "name": "ipython",
    "version": 3
   },
   "file_extension": ".py",
   "mimetype": "text/x-python",
   "name": "python",
   "nbconvert_exporter": "python",
   "pygments_lexer": "ipython3",
   "version": "3.11.10"
  }
 },
 "nbformat": 4,
 "nbformat_minor": 2
}
