{
 "cells": [
  {
   "cell_type": "code",
   "execution_count": 1,
   "metadata": {},
   "outputs": [],
   "source": [
    "import torch\n",
    "import itertools\n",
    "import numpy as np\n",
    "import time\n",
    "\n",
    "from env import GridEnvDeform, POMDPWrapper_v1, create_maze\n"
   ]
  },
  {
   "cell_type": "code",
   "execution_count": 59,
   "metadata": {},
   "outputs": [],
   "source": [
    "class Infotaxis():\n",
    "  \n",
    "    def __init__(self, T, O, R):\n",
    "        self.T = T\n",
    "        self.O = O\n",
    "        self.R = R\n",
    "    \n",
    "    def get_entropy(self, probabilities):\n",
    "        \n",
    "        # Calculate entropy, avoiding log(0) by adding a mask\n",
    "        entropy = -torch.sum(probabilities * torch.log2(probabilities + (probabilities == 0).float()))\n",
    "        \n",
    "        return entropy.item()  # .item() to get a standard Python float\n",
    "\n",
    "    def update_belief(self, belief, action, observation):\n",
    "        \"\"\"\n",
    "        Perform a Bayesian belief update in a POMDP with action-dependent transition and observation models.\n",
    "\n",
    "        Parameters:\n",
    "            belief (torch.Tensor): Initial belief distribution over states, shape (num_states,)\n",
    "            action (int): The action taken (index of action)\n",
    "            observation (int): The observation received (index of observation)\n",
    "            T (torch.Tensor): Transition probabilities, shape (num_states, num_actions, num_states)\n",
    "            O (torch.Tensor): Observation probabilities, shape (num_states, num_actions, num_observations)\n",
    "\n",
    "        Returns:\n",
    "            torch.Tensor: The updated belief over states, shape (num_states,)\n",
    "\n",
    "            P(s'|b,a,o) = \\eta * P(o|s',a) sum_s P(s'|s,a)b(s) = \\eta P(o|s',a) P(s'|b,a) \n",
    "        \"\"\"\n",
    "        # Prediction Step: Compute predicted belief over next states\n",
    "        predicted_belief = torch.matmul(belief, self.T[:, action])\n",
    "\n",
    "        # Update Step: Multiply by observation likelihood\n",
    "        observation_likelihood = self.O[:, action, observation]\n",
    "        new_belief = predicted_belief * observation_likelihood\n",
    "\n",
    "        # Normalize the updated belief to ensure it's a valid probability distribution\n",
    "        if new_belief.sum() > 0:\n",
    "            new_belief /= new_belief.sum() \n",
    "                \n",
    "        return new_belief\n",
    "    \n",
    "    def update_belief_superbatched(self, belief):\n",
    "        \"\"\"\n",
    "        Perform a Bayesian belief update in a POMDP with action-dependent transition and observation models.\n",
    "\n",
    "        Parameters:\n",
    "            belief (torch.Tensor): Initial belief distribution over states, shape (num_states,)\n",
    "            action (int): The action taken (index of action)\n",
    "            observation (int): The observation received (index of observation)\n",
    "            T (torch.Tensor): Transition probabilities, shape (num_states, num_actions, num_states)\n",
    "            O (torch.Tensor): Observation probabilities, shape (num_states, num_actions, num_observations)\n",
    "\n",
    "        Returns:\n",
    "            torch.Tensor: The updated belief over states, shape (num_states,)\n",
    "        \"\"\"\n",
    "        # Prediction Step: Compute predicted belief over next states\n",
    "        # [predicted_belief]_a,s' = sum_s P(s'|s,a) * [belief]_s\n",
    "        predicted_belief = torch.einsum('s,san->an', belief, self.T)\n",
    "\n",
    "        # Update Step: Multiply by observation likelihood\n",
    "        new_belief = torch.einsum('as,sao->sao', predicted_belief, self.O)\n",
    "\n",
    "\n",
    "        # Normalize the updated belief to ensure it's a valid probability distribution\n",
    "        new_belief /= new_belief.sum(dim=0) + 1e-10\n",
    "                \n",
    "        return new_belief\n",
    "\n",
    "    def G(self,b,a=None):\n",
    "        \"\"\"\"\n",
    "        \n",
    "        input:\n",
    "        b: belief\n",
    "        a: action\n",
    "\n",
    "        output: \n",
    "        G: torch.tensor shape (numactions) expected reduction of the belief's entropy G (b, a)\n",
    "        \n",
    "        \n",
    "        G(b,a) = H(b) - sum_o P(o|b,a)H(b|a,o)\n",
    "        P(o|b,a) = sum_s P(o|s,a)P(s|b,a) = sum_s P(o|s,a) sum_s' P(s|s',a)P(s'|b)\n",
    "        \n",
    "        \"\"\"\n",
    "        # H(b) = entropy of belief\n",
    "        H_b = self.get_entropy(b)\n",
    "        \n",
    "        # [P_o_b_a]_o_a = P(o|b,a) = sum_s P(o|s,a)P(s|b,a) = sum_s P(o|s,a) sum_s' P(s|s',a)b(s') shape (numobservations,numactions)\n",
    "        P_o_b_a = torch.einsum('sao,nas,n->oa',self.O,self.T,b)\n",
    "\n",
    "        # [bprime]_s_a_o = P(s|b,a,o) shape (numstates, numactions, numobservations)\n",
    "        brpime = self.update_belief_superbatched(b)\n",
    "\n",
    "        # [H_b_a_o]_i = H(b|a,o_i) = entropy of updated belief shape (numactions, numobservations)\n",
    "        H_b_a_o = - torch.sum(brpime * torch.log2(brpime + (brpime == 0).float()), dim=0)\n",
    "\n",
    "        G = H_b - torch.einsum('oa,ao->a', P_o_b_a, H_b_a_o)\n",
    "\n",
    "        if a is not None:\n",
    "            return G[a]\n",
    "        \n",
    "        return G\n",
    "\n",
    "    def get_action(self, belief):\n",
    "        \"\"\"\n",
    "        Compute the action that minimizes the expected entropy of the belief.\n",
    "\n",
    "        Parameters:\n",
    "            belief (torch.Tensor): The current belief over states, shape (num_states,)\n",
    "\n",
    "        Returns:\n",
    "            int: The action that minimizes the expected entropy of the belief\n",
    "        \"\"\"\n",
    "        # Compute the expected entropy reduction for each action\n",
    "        G = self.G(belief)\n",
    "        \n",
    "        # Return the action that minimizes the expected entropy\n",
    "        return torch.argmax(G).item()\n",
    "        "
   ]
  },
  {
   "cell_type": "code",
   "execution_count": 60,
   "metadata": {},
   "outputs": [],
   "source": [
    "O = torch.load('./models/O_maze_2.pt', weights_only=True)\n",
    "T = torch.load('./models/T_maze_2.pt', weights_only=True)\n",
    "R = torch.load('./models/R_maze_2.pt', weights_only=True)\n",
    "\n",
    "Infotaxis = Infotaxis(T,O,R)"
   ]
  },
  {
   "cell_type": "code",
   "execution_count": 61,
   "metadata": {},
   "outputs": [
    {
     "data": {
      "image/png": "[encoded data removed]",
      "text/plain": [
       "<Figure size 640x480 with 1 Axes>"
      ]
     },
     "metadata": {},
     "output_type": "display_data"
    },
    {
     "name": "stdout",
     "output_type": "stream",
     "text": [
      "States: 144, Actions: 4, Observations 32, Thetas [(1, 1), (2, 1)]\n",
      "\n"
     ]
    }
   ],
   "source": [
    "# maze size\n",
    "N = 2\n",
    "\n",
    "# thetas deformations (range(a,b),range(c,d))\n",
    "l0 = 1\n",
    "h0 = 3\n",
    "l1 = 1\n",
    "h1 = 2\n",
    "\n",
    "maze = np.load(f\"maze/maze_{N}.npy\")\n",
    "env = GridEnvDeform(maze,l0,h0,l1,h1)\n",
    "env.render()\n",
    "\n",
    "states = [((x,y,phi),(i,j)) for x in range(1,env.max_shape[0]-1) for y in range(1,env.max_shape[1]-1) for phi in range(4) for i in range(l0,h0) for j in range(l1,h1)] \n",
    "actions = [0,1,2,3]\n",
    "obs = list(itertools.product([0,1], repeat=5))\n",
    "thetas = [(i,j) for i in range(l0,h0) for j in range(l1,h1)]\n",
    "\n",
    "state_dict = {state: i for i, state in enumerate(states)}\n",
    "obs_dict = {obs : i for i, obs in enumerate(obs)}\n",
    "\n",
    "# Actions are: 0-listen, 1-open-left, 2-open-right\n",
    "lenS = len(states)\n",
    "lenA = len(actions)\n",
    "lenO = len(obs)\n",
    "\n",
    "print(f\"States: {lenS}, Actions: {lenA}, Observations {lenO}, Thetas {thetas}\\n\")\n",
    "\n",
    "T = torch.load(f\"models/T_maze_{N}.pt\", weights_only=True)\n",
    "R = torch.load(f\"models/R_maze_{N}.pt\", weights_only=True)\n",
    "O = torch.load(f\"models/O_maze_{N}.pt\", weights_only=True)\n"
   ]
  },
  {
   "cell_type": "code",
   "execution_count": 62,
   "metadata": {},
   "outputs": [],
   "source": [
    "env_wrapper = POMDPWrapper_v1(env, T,O,R)"
   ]
  },
  {
   "cell_type": "code",
   "execution_count": 87,
   "metadata": {},
   "outputs": [
    {
     "name": "stdout",
     "output_type": "stream",
     "text": [
      "Initial state:  ((1, 4, 1), (2, 1))\n"
     ]
    },
    {
     "data": {
      "image/png": "[encoded data removed]",
      "text/plain": [
       "<Figure size 640x480 with 1 Axes>"
      ]
     },
     "metadata": {},
     "output_type": "display_data"
    },
    {
     "name": "stdout",
     "output_type": "stream",
     "text": [
      "Best action:  0\n",
      "state 27\n"
     ]
    },
    {
     "data": {
      "image/png": "[encoded data removed]",
      "text/plain": [
       "<Figure size 640x480 with 1 Axes>"
      ]
     },
     "metadata": {},
     "output_type": "display_data"
    },
    {
     "name": "stdout",
     "output_type": "stream",
     "text": [
      "Step:  9\n",
      "Timestep missing: 9  \n",
      "Total reward:     -0.5  \n",
      "Chosen action:  0\n",
      "Actual State:  ((1, 5, 1), (2, 1))\n",
      "argmax and max Belief:  ((1, 5, 1), (2, 1)) tensor(0.2000)\n",
      "Belief entropy:  2.321928024291992\n",
      "Best action:  1\n",
      "state 35\n"
     ]
    },
    {
     "data": {
      "image/png": "[encoded data removed]",
      "text/plain": [
       "<Figure size 640x480 with 1 Axes>"
      ]
     },
     "metadata": {},
     "output_type": "display_data"
    },
    {
     "name": "stdout",
     "output_type": "stream",
     "text": [
      "Step:  8\n",
      "Timestep missing: 8  \n",
      "Total reward:     -1.0  \n",
      "Chosen action:  1\n",
      "Actual State:  ((2, 5, 2), (2, 1))\n",
      "argmax and max Belief:  ((2, 5, 2), (2, 1)) tensor(1.)\n",
      "Belief entropy:  -0.0\n",
      "Best action:  0\n",
      "state 85\n"
     ]
    },
    {
     "data": {
      "image/png": "[encoded data removed]",
      "text/plain": [
       "<Figure size 640x480 with 1 Axes>"
      ]
     },
     "metadata": {},
     "output_type": "display_data"
    },
    {
     "name": "stdout",
     "output_type": "stream",
     "text": [
      "Step:  7\n",
      "Timestep missing: 7  \n",
      "Total reward:     -1.5  \n",
      "Chosen action:  0\n",
      "Actual State:  ((3, 5, 2), (2, 1))\n",
      "argmax and max Belief:  ((3, 5, 2), (2, 1)) tensor(1.)\n",
      "Belief entropy:  -0.0\n",
      "Best action:  0\n",
      "state 133\n"
     ]
    },
    {
     "data": {
      "image/png": "[encoded data removed]",
      "text/plain": [
       "<Figure size 640x480 with 1 Axes>"
      ]
     },
     "metadata": {},
     "output_type": "display_data"
    },
    {
     "name": "stdout",
     "output_type": "stream",
     "text": [
      "Step:  6\n",
      "Timestep missing: 6  \n",
      "Total reward:     -2.5  \n",
      "Chosen action:  0\n",
      "Actual State:  ((3, 5, 2), (2, 1))\n",
      "argmax and max Belief:  ((3, 5, 2), (2, 1)) tensor(1.)\n",
      "Belief entropy:  -0.0\n",
      "Best action:  0\n",
      "state 133\n"
     ]
    },
    {
     "data": {
      "image/png": "[encoded data removed]",
      "text/plain": [
       "<Figure size 640x480 with 1 Axes>"
      ]
     },
     "metadata": {},
     "output_type": "display_data"
    },
    {
     "name": "stdout",
     "output_type": "stream",
     "text": [
      "Step:  5\n",
      "Timestep missing: 5  \n",
      "Total reward:     -3.5  \n",
      "Chosen action:  0\n",
      "Actual State:  ((3, 5, 2), (2, 1))\n",
      "argmax and max Belief:  ((3, 5, 2), (2, 1)) tensor(1.)\n",
      "Belief entropy:  -0.0\n",
      "Best action:  0\n",
      "state 133\n"
     ]
    },
    {
     "data": {
      "image/png": "[encoded data removed]",
      "text/plain": [
       "<Figure size 640x480 with 1 Axes>"
      ]
     },
     "metadata": {},
     "output_type": "display_data"
    },
    {
     "name": "stdout",
     "output_type": "stream",
     "text": [
      "Step:  4\n",
      "Timestep missing: 4  \n",
      "Total reward:     -4.5  \n",
      "Chosen action:  0\n",
      "Actual State:  ((3, 5, 2), (2, 1))\n",
      "argmax and max Belief:  ((3, 5, 2), (2, 1)) tensor(1.)\n",
      "Belief entropy:  -0.0\n",
      "Best action:  0\n",
      "state 133\n"
     ]
    },
    {
     "data": {
      "image/png": "[encoded data removed]",
      "text/plain": [
       "<Figure size 640x480 with 1 Axes>"
      ]
     },
     "metadata": {},
     "output_type": "display_data"
    },
    {
     "name": "stdout",
     "output_type": "stream",
     "text": [
      "Step:  3\n",
      "Timestep missing: 3  \n",
      "Total reward:     -5.5  \n",
      "Chosen action:  0\n",
      "Actual State:  ((3, 5, 2), (2, 1))\n",
      "argmax and max Belief:  ((3, 5, 2), (2, 1)) tensor(1.)\n",
      "Belief entropy:  -0.0\n",
      "Best action:  0\n",
      "state 133\n"
     ]
    },
    {
     "data": {
      "image/png": "[encoded data removed]",
      "text/plain": [
       "<Figure size 640x480 with 1 Axes>"
      ]
     },
     "metadata": {},
     "output_type": "display_data"
    },
    {
     "name": "stdout",
     "output_type": "stream",
     "text": [
      "Step:  2\n",
      "Timestep missing: 2  \n",
      "Total reward:     -6.5  \n",
      "Chosen action:  0\n",
      "Actual State:  ((3, 5, 2), (2, 1))\n",
      "argmax and max Belief:  ((3, 5, 2), (2, 1)) tensor(1.)\n",
      "Belief entropy:  -0.0\n",
      "Best action:  0\n",
      "state 133\n"
     ]
    },
    {
     "data": {
      "image/png": "[encoded data removed]",
      "text/plain": [
       "<Figure size 640x480 with 1 Axes>"
      ]
     },
     "metadata": {},
     "output_type": "display_data"
    },
    {
     "name": "stdout",
     "output_type": "stream",
     "text": [
      "Step:  1\n",
      "Timestep missing: 1  \n",
      "Total reward:     -7.5  \n",
      "Chosen action:  0\n",
      "Actual State:  ((3, 5, 2), (2, 1))\n",
      "argmax and max Belief:  ((3, 5, 2), (2, 1)) tensor(1.)\n",
      "Belief entropy:  -0.0\n"
     ]
    },
    {
     "ename": "KeyboardInterrupt",
     "evalue": "",
     "output_type": "error",
     "traceback": [
      "\u001b[0;31m---------------------------------------------------------------------------\u001b[0m",
      "\u001b[0;31mKeyboardInterrupt\u001b[0m                         Traceback (most recent call last)",
      "Cell \u001b[0;32mIn[87], line 43\u001b[0m\n\u001b[1;32m     41\u001b[0m b \u001b[38;5;241m=\u001b[39m next_belief\n\u001b[1;32m     42\u001b[0m \u001b[38;5;66;03m# Sleep 1 second so the user can see what is happening.\u001b[39;00m\n\u001b[0;32m---> 43\u001b[0m \u001b[43mtime\u001b[49m\u001b[38;5;241;43m.\u001b[39;49m\u001b[43msleep\u001b[49m\u001b[43m(\u001b[49m\u001b[38;5;241;43m1\u001b[39;49m\u001b[43m)\u001b[49m\n",
      "\u001b[0;31mKeyboardInterrupt\u001b[0m: "
     ]
    }
   ],
   "source": [
    "# the simulation starts with given belief and random state\n",
    "b = torch.ones(len(states)) / len(states)\n",
    "s = np.random.randint(len(states))\n",
    "\n",
    "print(\"Initial state: \", states[s])\n",
    "env.render(states[s])\n",
    "\n",
    "horizon = 10\n",
    "totalReward = 0.0\n",
    "\n",
    "for t in range(horizon - 1, -1, -1):\n",
    "\n",
    "    best_action = Infotaxis.get_action(b)\n",
    "\n",
    "    #best_action = np.random.choice([0,1,2,3])\n",
    "    print(\"Best action: \", best_action)\n",
    "    print(\"state\", s)\n",
    "    next_obs, reward, done, info = env_wrapper.step(s, best_action)\n",
    "    \n",
    "    next_state = info['actual_state']\n",
    "    env.render(states[next_state])\n",
    "\n",
    "\n",
    "    totalReward += reward\n",
    "    next_belief = env_wrapper.update_belief(b, best_action, next_obs)\n",
    "    \n",
    "    print(\"Step: \", t)\n",
    "    print(\"Timestep missing: \" + str(t) + \"  \") # Print space after to clear\n",
    "    print(\"Total reward:     \" + str(totalReward) + \"  \")\n",
    "    print(\"Chosen action: \", best_action)\n",
    "\n",
    "    print(\"Actual State: \", states[next_state])\n",
    "    print(\"argmax and max Belief: \", states[torch.argmax(next_belief)], torch.max(next_belief))\n",
    "    print(\"Belief entropy: \", Infotaxis.get_entropy(next_belief))\n",
    "\n",
    "    if t == 1:\n",
    "        assert states[torch.argmax(next_belief)] == states[next_state] \n",
    "    \n",
    "    # Then we update the world\n",
    "    s = next_state\n",
    "    b = next_belief\n",
    "    # Sleep 1 second so the user can see what is happening.\n",
    "    time.sleep(1)\n",
    "\n"
   ]
  }
 ],
 "metadata": {
  "kernelspec": {
   "display_name": "rob",
   "language": "python",
   "name": "python3"
  },
  "language_info": {
   "codemirror_mode": {
    "name": "ipython",
    "version": 3
   },
   "file_extension": ".py",
   "mimetype": "text/x-python",
   "name": "python",
   "nbconvert_exporter": "python",
   "pygments_lexer": "ipython3",
   "version": "3.9.19"
  }
 },
 "nbformat": 4,
 "nbformat_minor": 2
}
