{
 "cells": [
  {
   "cell_type": "code",
   "execution_count": 2,
   "metadata": {},
   "outputs": [],
   "source": [
    "import os\n",
    "import sys\n",
    "sys.path.append('..')\n"
   ]
  },
  {
   "cell_type": "code",
   "execution_count": 7,
   "metadata": {},
   "outputs": [],
   "source": [
    "import numpy as np\n",
    "import itertools\n",
    "from environment.env import GridEnvDeform\n",
    "from tqdm import trange\n",
    "# maze size\n",
    "N = 2\n",
    "\n",
    "# thetas deformations (range(a,b),range(c,d))\n",
    "l0 = 1\n",
    "h0 = 10\n",
    "l1 = 1\n",
    "h1 = 10\n",
    "\n",
    "maze = np.load(f\"../maze/maze_{N}.npy\")"
   ]
  },
  {
   "cell_type": "code",
   "execution_count": 8,
   "metadata": {},
   "outputs": [],
   "source": [
    "from stable_baselines3 import DQN\n",
    "from environment.env import MDPGYMGridEnvDeform, POMDPGYMGridEnvDeform\n",
    "\n",
    "MDP_env = MDPGYMGridEnvDeform(maze,l0,h0,l1,h1)\n",
    "\n",
    "POMDP_env = POMDPGYMGridEnvDeform(maze,l0,h0,l1,h1)\n"
   ]
  },
  {
   "cell_type": "code",
   "execution_count": 12,
   "metadata": {},
   "outputs": [],
   "source": [
    "from functools import wraps\n",
    "from time import time\n",
    "\n",
    "def timing(f):\n",
    "    @wraps(f)\n",
    "    def wrap(*args, **kw):\n",
    "        ts = time()\n",
    "        result = f(*args, **kw)\n",
    "        te = time()\n",
    "        print('func:%r args:[%r, %r] took: %2.4f sec' % \\\n",
    "          (f.__name__, args, kw, te-ts))\n",
    "        return result\n",
    "    return wrap"
   ]
  },
  {
   "cell_type": "code",
   "execution_count": 16,
   "metadata": {},
   "outputs": [
    {
     "name": "stdout",
     "output_type": "stream",
     "text": [
      "func:'time_env' args:[(<environment.env.MDPGYMGridEnvDeform object at 0x7fdc5e068d60>, 1000000), {}] took: 55.9564 sec\n"
     ]
    }
   ],
   "source": [
    "@timing\n",
    "def time_env(env,num_steps):\n",
    "    obs, _ = env.reset()\n",
    "    \n",
    "    for i in range(num_steps):\n",
    "        action = env.action_space.sample()\n",
    "        obs, reward, terminated,truncated, info = env.step(action)\n",
    "\n",
    "\n",
    "time_env(MDP_env,1000000)"
   ]
  },
  {
   "cell_type": "code",
   "execution_count": 17,
   "metadata": {},
   "outputs": [
    {
     "name": "stdout",
     "output_type": "stream",
     "text": [
      "func:'time_env' args:[(<environment.env.POMDPGYMGridEnvDeform object at 0x7fdc5e3ff2b0>, 1000000), {}] took: 1534.6779 sec\n"
     ]
    }
   ],
   "source": [
    "time_env(POMDP_env,1000000)"
   ]
  }
 ],
 "metadata": {
  "kernelspec": {
   "display_name": "rob",
   "language": "python",
   "name": "python3"
  },
  "language_info": {
   "codemirror_mode": {
    "name": "ipython",
    "version": 3
   },
   "file_extension": ".py",
   "mimetype": "text/x-python",
   "name": "python",
   "nbconvert_exporter": "python",
   "pygments_lexer": "ipython3",
   "version": "3.9.19"
  }
 },
 "nbformat": 4,
 "nbformat_minor": 2
}
