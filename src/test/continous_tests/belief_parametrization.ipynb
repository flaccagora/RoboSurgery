{
 "cells": [
  {
   "cell_type": "markdown",
   "metadata": {},
   "source": [
    "\n",
    "$$b'(s)=\\frac{p(y|s)\\cdot b(s)}{\\int p(y|s)\\cdot b(s)}$$\n",
    "\n",
    "given $b(s)=\\sum_i w_i \\cdot \\phi_i(s)$\n",
    "\n",
    "$$b'(s)=\\frac{p(y|s)\\cdot \\sum_i w_i \\cdot \\phi_i(s)}{\\int p(y|s)\\cdot \\sum_i w_i \\cdot \\phi_i(s) ds} $$\n",
    "\n",
    "imposing $b'(s)=\\sum_i \\tilde{w_i} \\cdot \\phi_i(s)$, then $\\forall i$:\n",
    "\n",
    "\n",
    "$$\\tilde{w_i} = \\frac{p(y|s)\\cdot w_i}{\\sum_i w_i\\int p(y|s) \\cdot \\phi_i(s) ds} $$\n",
    "\n",
    "$$\\tilde{w_i} = \\eta \\cdot p(y|s)\\cdot w_i $$\n",
    "\n",
    "basta a uel punto normalizzare i wtilde così che int b ds = 1\n",
    "\n",
    "computing $\\int p(y|s) \\cdot \\phi_i(s) ds$ ???\n",
    "\n",
    "$\\#s = \\#\\theta \\cdot \\#pos $\n",
    "\n",
    "affinché $\\int b ds = 1$ è sufficiente che $\\sum_i w_i = 1$ se le $\\phi_i$ sono normalizzate, non serve calcolare l'integrale\n"
   ]
  },
  {
   "cell_type": "code",
   "execution_count": null,
   "metadata": {},
   "outputs": [],
   "source": []
  }
 ],
 "metadata": {
  "kernelspec": {
   "display_name": "robogym",
   "language": "python",
   "name": "python3"
  },
  "language_info": {
   "name": "python",
   "version": "3.11.10"
  }
 },
 "nbformat": 4,
 "nbformat_minor": 2
}
