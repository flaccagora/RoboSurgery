{
 "cells": [
  {
   "cell_type": "code",
   "execution_count": 2,
   "metadata": {},
   "outputs": [],
   "source": [
    "import numpy as np\n",
    "import torch\n",
    "import torch.nn as nn\n",
    "import torch.optim as optim\n",
    "import itertools\n",
    "from tqdm import trange\n",
    "\n",
    "from agents.dqn import DoubleDQNAgent, QNetwork\n",
    "from environment.env import GridEnvDeform, POMDPWrapper_v0\n",
    "import matplotlib.pyplot as plt\n",
    "from utils.belief import update_belief\n",
    "\n"
   ]
  },
  {
   "cell_type": "code",
   "execution_count": 3,
   "metadata": {},
   "outputs": [
    {
     "data": {
      "image/png": "[encoded data removed]",
      "text/plain": [
       "<Figure size 640x480 with 1 Axes>"
      ]
     },
     "metadata": {},
     "output_type": "display_data"
    },
    {
     "name": "stdout",
     "output_type": "stream",
     "text": [
      "States: 144, Actions: 4, Observations 32, Thetas [(1, 1), (2, 1)]\n",
      "\n"
     ]
    }
   ],
   "source": [
    "# maze size\n",
    "N = 2\n",
    "\n",
    "# thetas deformations (range(a,b),range(c,d))\n",
    "l0 = 1\n",
    "h0 = 3\n",
    "l1 = 1\n",
    "h1 = 2\n",
    "\n",
    "maze = np.load(f\"maze/maze_{N}.npy\")\n",
    "env = GridEnvDeform(maze,l0,h0,l1,h1)\n",
    "env.render()\n",
    "\n",
    "states = [((x,y,phi),(i,j)) for x in range(1,env.max_shape[0]-1) for y in range(1,env.max_shape[1]-1) for phi in range(4) for i in range(l0,h0) for j in range(l1,h1)] \n",
    "actions = [0,1,2,3]\n",
    "obs = list(itertools.product([0,1], repeat=5))\n",
    "thetas = [(i,j) for i in range(l0,h0) for j in range(l1,h1)]\n",
    "\n",
    "state_dict = {state: i for i, state in enumerate(states)}\n",
    "obs_dict = {obs : i for i, obs in enumerate(obs)}\n",
    "\n",
    "# Actions are: 0-listen, 1-open-left, 2-open-right\n",
    "lenS = len(states)\n",
    "lenA = len(actions)\n",
    "lenO = len(obs)\n",
    "\n",
    "print(f\"States: {lenS}, Actions: {lenA}, Observations {lenO}, Thetas {thetas}\\n\")\n",
    "\n",
    "T = torch.load(f\"models/T_maze_{N}.pt\", weights_only=True)\n",
    "R = torch.load(f\"models/R_maze_{N}.pt\", weights_only=True)\n",
    "O = torch.load(f\"models/O_maze_{N}.pt\", weights_only=True)\n"
   ]
  },
  {
   "cell_type": "markdown",
   "metadata": {},
   "source": [
    "# POMDP  train\n"
   ]
  },
  {
   "cell_type": "code",
   "execution_count": 4,
   "metadata": {},
   "outputs": [],
   "source": [
    "agent = DoubleDQNAgent(state_dim=144, action_dim=4, lr = 0.01)\n",
    "\n",
    "pomdp_env = POMDPWrapper_v0(env, agent, T, R, O, state_dict, obs_dict, thetas)"
   ]
  },
  {
   "cell_type": "code",
   "execution_count": 5,
   "metadata": {},
   "outputs": [
    {
     "name": "stderr",
     "output_type": "stream",
     "text": [
      "  0%|          | 0/1000 [00:00<?, ?it/s]"
     ]
    },
    {
     "name": "stderr",
     "output_type": "stream",
     "text": [
      "  4%|▎         | 37/1000 [00:08<03:53,  4.12it/s]\n"
     ]
    },
    {
     "ename": "KeyboardInterrupt",
     "evalue": "",
     "output_type": "error",
     "traceback": [
      "\u001b[0;31m---------------------------------------------------------------------------\u001b[0m",
      "\u001b[0;31mKeyboardInterrupt\u001b[0m                         Traceback (most recent call last)",
      "Cell \u001b[0;32mIn[5], line 22\u001b[0m\n\u001b[1;32m     19\u001b[0m \u001b[38;5;28;01mwhile\u001b[39;00m \u001b[38;5;129;01mnot\u001b[39;00m done \u001b[38;5;129;01mand\u001b[39;00m steps \u001b[38;5;241m<\u001b[39m max_episode_steps:\n\u001b[1;32m     21\u001b[0m     \u001b[38;5;28;01mfor\u001b[39;00m action \u001b[38;5;129;01min\u001b[39;00m \u001b[38;5;28mrange\u001b[39m(\u001b[38;5;241m4\u001b[39m):\n\u001b[0;32m---> 22\u001b[0m         next_obs, reward, done, info \u001b[38;5;241m=\u001b[39m \u001b[43mpomdp_env\u001b[49m\u001b[38;5;241;43m.\u001b[39;49m\u001b[43mstep\u001b[49m\u001b[43m(\u001b[49m\u001b[43ms\u001b[49m\u001b[43m,\u001b[49m\u001b[43maction\u001b[49m\u001b[43m)\u001b[49m\n\u001b[1;32m     23\u001b[0m         b_prime \u001b[38;5;241m=\u001b[39m update_belief(b, action,obs,T,O)\n\u001b[1;32m     24\u001b[0m         agent\u001b[38;5;241m.\u001b[39mstore_transition(b, action, reward, b_prime, done)\n",
      "File \u001b[0;32m~/Desktop/RoboSurgery/src/environment/env.py:253\u001b[0m, in \u001b[0;36mPOMDPWrapper_v0.step\u001b[0;34m(self, s, a)\u001b[0m\n\u001b[1;32m    251\u001b[0m \u001b[38;5;28;01mdef\u001b[39;00m \u001b[38;5;21mstep\u001b[39m(\u001b[38;5;28mself\u001b[39m,s,a):\n\u001b[1;32m    252\u001b[0m     s_prime \u001b[38;5;241m=\u001b[39m torch\u001b[38;5;241m.\u001b[39margmax(\u001b[38;5;28mself\u001b[39m\u001b[38;5;241m.\u001b[39mT[s,a,:])\n\u001b[0;32m--> 253\u001b[0m     r \u001b[38;5;241m=\u001b[39m \u001b[38;5;28mself\u001b[39m\u001b[38;5;241m.\u001b[39mR[s,a,\u001b[43ms_prime\u001b[49m\u001b[38;5;241;43m.\u001b[39;49m\u001b[43mitem\u001b[49m\u001b[43m(\u001b[49m\u001b[43m)\u001b[49m]\n\u001b[1;32m    254\u001b[0m     obs \u001b[38;5;241m=\u001b[39m torch\u001b[38;5;241m.\u001b[39margmax(\u001b[38;5;28mself\u001b[39m\u001b[38;5;241m.\u001b[39mO[s_prime,\u001b[38;5;241m0\u001b[39m,:])\n\u001b[1;32m    255\u001b[0m     info \u001b[38;5;241m=\u001b[39m {\u001b[38;5;124m\"\u001b[39m\u001b[38;5;124mactual_state\u001b[39m\u001b[38;5;124m\"\u001b[39m: s_prime\u001b[38;5;241m.\u001b[39mitem()}\n",
      "\u001b[0;31mKeyboardInterrupt\u001b[0m: "
     ]
    }
   ],
   "source": [
    "num_episodes = 1000\n",
    "max_episode_steps = 100\n",
    "\n",
    "rewards = []\n",
    "evalrewards = []\n",
    "\n",
    "for episode in trange(num_episodes):\n",
    "    \n",
    "    obs, info = pomdp_env.reset()\n",
    "    s = info['actual_state']\n",
    "\n",
    "    b_0 = torch.ones(len(states)) / len(states)   \n",
    "    b = update_belief(b_0, 0, obs, T,O)\n",
    "    \n",
    "    episode_reward = 0\n",
    "    done = False\n",
    "    \n",
    "    steps = 0\n",
    "    while not done and steps < max_episode_steps:\n",
    "        \n",
    "        for action in range(4):\n",
    "            next_obs, reward, done, info = pomdp_env.step(s,action)\n",
    "            b_prime = update_belief(b, action,obs,T,O)\n",
    "            agent.store_transition(b, action, reward, b_prime, done)\n",
    "\n",
    "        action = agent.choose_action(b)\n",
    "        obs, reward, done, info = pomdp_env.step(s,action)\n",
    "        next_state = info['actual_state']\n",
    "        b_prime = update_belief(b, action,obs,T,O)\n",
    "\n",
    "\n",
    "        agent.train()\n",
    "        b = b_prime\n",
    "        s = next_state\n",
    "\n",
    "        episode_reward += reward\n",
    "        steps += 1        \n",
    "    \n",
    "    agent.update_epsilon()\n",
    "    rewards.append(episode_reward)\n",
    "            \n",
    "\n",
    "\n",
    "print(\"Training complete.\")\n"
   ]
  }
 ],
 "metadata": {
  "kernelspec": {
   "display_name": "rob",
   "language": "python",
   "name": "python3"
  },
  "language_info": {
   "codemirror_mode": {
    "name": "ipython",
    "version": 3
   },
   "file_extension": ".py",
   "mimetype": "text/x-python",
   "name": "python",
   "nbconvert_exporter": "python",
   "pygments_lexer": "ipython3",
   "version": "3.9.19"
  }
 },
 "nbformat": 4,
 "nbformat_minor": 2
}
