{
 "cells": [
  {
   "cell_type": "code",
   "execution_count": 1,
   "metadata": {},
   "outputs": [],
   "source": [
    "import numpy as np\n",
    "import torch\n",
    "import torch.nn as nn\n",
    "import torch.optim as optim\n",
    "import itertools\n",
    "from tqdm import trange\n",
    "\n",
    "from agents.dqn import DoubleDQNAgent, QNetwork\n",
    "from environment.env import GridEnvDeform, POMDPWrapper_v0\n",
    "import matplotlib.pyplot as plt\n",
    "from utils.belief import update_belief, belief_entropy\n",
    "\n"
   ]
  },
  {
   "cell_type": "code",
   "execution_count": 2,
   "metadata": {},
   "outputs": [
    {
     "data": {
      "image/png": "[encoded data removed]",
      "text/plain": [
       "<Figure size 640x480 with 1 Axes>"
      ]
     },
     "metadata": {},
     "output_type": "display_data"
    },
    {
     "name": "stdout",
     "output_type": "stream",
     "text": [
      "States: 144, Actions: 4, Observations 32, Thetas [(1, 1), (2, 1)]\n",
      "\n"
     ]
    }
   ],
   "source": [
    "# maze size\n",
    "N = 2\n",
    "\n",
    "# thetas deformations (range(a,b),range(c,d))\n",
    "l0 = 1\n",
    "h0 = 3\n",
    "l1 = 1\n",
    "h1 = 2\n",
    "\n",
    "maze = np.load(f\"maze/maze_{N}.npy\")\n",
    "env = GridEnvDeform(maze,l0,h0,l1,h1)\n",
    "env.render()\n",
    "\n",
    "states = [((x,y,phi),(i,j)) for x in range(1,env.max_shape[0]-1) for y in range(1,env.max_shape[1]-1) for phi in range(4) for i in range(l0,h0) for j in range(l1,h1)] \n",
    "actions = [0,1,2,3]\n",
    "obs = list(itertools.product([0,1], repeat=5))\n",
    "thetas = [(i,j) for i in range(l0,h0) for j in range(l1,h1)]\n",
    "\n",
    "state_dict = {state: i for i, state in enumerate(states)}\n",
    "obs_dict = {obs : i for i, obs in enumerate(obs)}\n",
    "\n",
    "# Actions are: 0-listen, 1-open-left, 2-open-right\n",
    "lenS = len(states)\n",
    "lenA = len(actions)\n",
    "lenO = len(obs)\n",
    "\n",
    "print(f\"States: {lenS}, Actions: {lenA}, Observations {lenO}, Thetas {thetas}\\n\")\n",
    "\n",
    "T = torch.load(f\"models/T_maze_{N}.pt\", weights_only=True)\n",
    "R = torch.load(f\"models/R_maze_{N}.pt\", weights_only=True)\n",
    "O = torch.load(f\"models/O_maze_{N}.pt\", weights_only=True)\n"
   ]
  },
  {
   "cell_type": "code",
   "execution_count": 3,
   "metadata": {},
   "outputs": [],
   "source": [
    "agent = DoubleDQNAgent(state_dim=144, action_dim=4, lr = 0.01)\n",
    "\n",
    "pomdp_env = POMDPWrapper_v0(env, agent, T, R, O, state_dict, obs_dict, thetas)"
   ]
  },
  {
   "cell_type": "markdown",
   "metadata": {},
   "source": [
    "# QMDP"
   ]
  },
  {
   "cell_type": "code",
   "execution_count": 4,
   "metadata": {},
   "outputs": [],
   "source": [
    "# import the MDP solution model (tabular q in this case)\n",
    "Q = np.load(f\"agents/tabularQ_maze_{N}.npy\")"
   ]
  },
  {
   "cell_type": "code",
   "execution_count": 5,
   "metadata": {},
   "outputs": [
    {
     "name": "stdout",
     "output_type": "stream",
     "text": [
      "Actual State:  ((2, 3, 0), (1, 1))\n",
      "argmax and max Belief:  ((2, 1, 0), (1, 1)) tensor(0.2500)\n",
      "Belief entropy:  2.0\n"
     ]
    },
    {
     "data": {
      "image/png": "[encoded data removed]",
      "text/plain": [
       "<Figure size 640x480 with 1 Axes>"
      ]
     },
     "metadata": {},
     "output_type": "display_data"
    },
    {
     "name": "stdout",
     "output_type": "stream",
     "text": [
      "Chosen action:  2\n",
      "Actual State:  ((3, 3, 2), (1, 1))\n",
      "argmax and max Belief:  ((3, 3, 2), (1, 1)) tensor(1.)\n",
      "Belief entropy:  -0.0\n"
     ]
    },
    {
     "data": {
      "image/png": "[encoded data removed]",
      "text/plain": [
       "<Figure size 640x480 with 1 Axes>"
      ]
     },
     "metadata": {},
     "output_type": "display_data"
    },
    {
     "data": {
      "text/plain": [
       "np.float64(1.0)"
      ]
     },
     "execution_count": 5,
     "metadata": {},
     "output_type": "execute_result"
    }
   ],
   "source": [
    "def eval_qmdp_tabular(env : GridEnvDeform, Q, num_episodes=100, max_episode_steps=25, render=False):\n",
    "    total_rewards = []\n",
    "\n",
    "    for episode in range(num_episodes):\n",
    "        s, _ = env.reset()\n",
    "\n",
    "        obs = env.get_observation()\n",
    "\n",
    "        b_0 = torch.ones(len(states)) / len(states)   \n",
    "        b = update_belief(b_0, 0, obs_dict[tuple(obs)],T,O)\n",
    "\n",
    "        print(\"Actual State: \", s)\n",
    "        print(\"argmax and max Belief: \", states[torch.argmax(b)], torch.max(b))\n",
    "        print(\"Belief entropy: \", belief_entropy(b))\n",
    "\n",
    "\n",
    "        episode_reward = 0\n",
    "        done = False\n",
    "        c = max_episode_steps\n",
    "        while not done and c > 0:\n",
    "            if render:\n",
    "                env.render()\n",
    "\n",
    "            # Agent takes an action using a greedy policy (without exploration)\n",
    "            action = np.argmax(Q[torch.argmax(b)])\n",
    "            next_state, reward, done, _, info = env.step(action.item(), s, execute=render)\n",
    "            \n",
    "            s = next_state\n",
    "            next_obs = env.get_observation(next_state)\n",
    "\n",
    "            b_prime = update_belief(b, action, obs_dict[tuple(next_obs)],T,O)\n",
    "            b = b_prime\n",
    "\n",
    "            episode_reward += reward\n",
    "            \n",
    "            print(\"Chosen action: \", action)\n",
    "            print(\"Actual State: \", next_state)\n",
    "            print(\"argmax and max Belief: \", states[torch.argmax(b_prime)], torch.max(b_prime))\n",
    "            print(\"Belief entropy: \", belief_entropy(b_prime))\n",
    "\n",
    "\n",
    "            if done or c == 1:\n",
    "                total_rewards.append(episode_reward)\n",
    "                if done:\n",
    "                    env.render()\n",
    "                # print(f\"Episode {episode + 1}/{num_episodes}, Reward: {episode_reward}\")\n",
    "\n",
    "            c -= 1\n",
    "    avg_reward = np.mean(total_rewards)\n",
    "    # print(f\"Average Reward over {num_episodes} episodes: {avg_reward}\")\n",
    "    return avg_reward\n",
    "\n",
    "eval_qmdp_tabular(env, Q, num_episodes=1,max_episode_steps=10, render=True)"
   ]
  },
  {
   "cell_type": "code",
   "execution_count": 16,
   "metadata": {},
   "outputs": [],
   "source": [
    "s, _ = env.reset()\n",
    "\n",
    "obs = env.get_observation()\n"
   ]
  },
  {
   "cell_type": "code",
   "execution_count": 17,
   "metadata": {},
   "outputs": [],
   "source": [
    "b_0 = torch.ones(len(states)) / len(states)   \n",
    "b = update_belief(b_0, 0, obs_dict[tuple(obs)],T,O)\n"
   ]
  },
  {
   "cell_type": "code",
   "execution_count": 33,
   "metadata": {},
   "outputs": [],
   "source": [
    "orientation = 3\n",
    "deformation = (1,1)\n",
    "\n",
    "for orientation in range(4):\n",
    "    belief = np.zeros(env.maze.shape) - np.inf\n",
    "    for s, state in enumerate(states):\n",
    "        if state[1] == deformation and state[0][2] == orientation:\n",
    "            belief[state[0][0],state[0][1]] = b[s]\n"
   ]
  },
  {
   "cell_type": "code",
   "execution_count": 34,
   "metadata": {},
   "outputs": [
    {
     "data": {
      "text/plain": [
       "array([[      -inf,       -inf,       -inf,       -inf,       -inf,\n",
       "              -inf,       -inf,       -inf],\n",
       "       [      -inf, 0.        , 0.        , 0.        , 0.        ,\n",
       "        0.        , 0.        ,       -inf],\n",
       "       [      -inf, 0.        , 0.        , 0.        , 0.        ,\n",
       "        0.        , 0.        ,       -inf],\n",
       "       [      -inf, 0.09999999, 0.        , 0.        , 0.        ,\n",
       "        0.        , 0.        ,       -inf],\n",
       "       [      -inf,       -inf,       -inf,       -inf,       -inf,\n",
       "              -inf,       -inf,       -inf]])"
      ]
     },
     "execution_count": 34,
     "metadata": {},
     "output_type": "execute_result"
    }
   ],
   "source": [
    "belief"
   ]
  },
  {
   "cell_type": "code",
   "execution_count": 35,
   "metadata": {},
   "outputs": [
    {
     "data": {
      "text/plain": [
       "<matplotlib.image.AxesImage at 0x7f6635683610>"
      ]
     },
     "execution_count": 35,
     "metadata": {},
     "output_type": "execute_result"
    },
    {
     "data": {
      "image/png": "[encoded data removed]",
      "text/plain": [
       "<Figure size 640x480 with 1 Axes>"
      ]
     },
     "metadata": {},
     "output_type": "display_data"
    }
   ],
   "source": [
    "# show image of belief\n",
    "plt.imshow(belief)"
   ]
  },
  {
   "cell_type": "code",
   "execution_count": 12,
   "metadata": {},
   "outputs": [
    {
     "data": {
      "text/plain": [
       "tensor([0.0606, 0.0000, 0.0000, 0.0000, 0.0000, 0.0000, 0.0000, 0.0000, 0.0000,\n",
       "        0.0000, 0.0000, 0.0000, 0.0000, 0.0000, 0.0000, 0.0000, 0.0606, 0.0000,\n",
       "        0.0000, 0.0303, 0.0000, 0.0000, 0.0000, 0.0000, 0.0000, 0.0000, 0.0303,\n",
       "        0.0000, 0.0000, 0.0000, 0.0000, 0.0303, 0.0606, 0.0000, 0.0303, 0.0000,\n",
       "        0.0000, 0.0000, 0.0303, 0.0000, 0.0606, 0.0000, 0.0606, 0.0000, 0.0000,\n",
       "        0.0000, 0.0000, 0.0000, 0.0000, 0.0000, 0.0000, 0.0000, 0.0000, 0.0000,\n",
       "        0.0000, 0.0000, 0.0000, 0.0000, 0.0000, 0.0000, 0.0000, 0.0000, 0.0000,\n",
       "        0.0000, 0.0000, 0.0000, 0.0000, 0.0000, 0.0000, 0.0000, 0.0000, 0.0000,\n",
       "        0.0000, 0.0000, 0.0303, 0.0000, 0.0000, 0.0000, 0.0000, 0.0000, 0.0303,\n",
       "        0.0000, 0.0303, 0.0000, 0.0303, 0.0000, 0.0303, 0.0000, 0.0303, 0.0000,\n",
       "        0.0606, 0.0000, 0.0303, 0.0000, 0.0000, 0.0000, 0.0000, 0.0000, 0.0000,\n",
       "        0.0000, 0.0000, 0.0000, 0.0000, 0.0000, 0.0000, 0.0000, 0.0000, 0.0000,\n",
       "        0.0000, 0.0000, 0.0000, 0.0000, 0.0000, 0.0000, 0.0000, 0.0000, 0.0000,\n",
       "        0.0000, 0.0000, 0.0000, 0.0000, 0.0000, 0.0303, 0.0000, 0.0000, 0.0000,\n",
       "        0.0000, 0.0000, 0.0000, 0.0000, 0.0303, 0.0000, 0.0606, 0.0000, 0.0303,\n",
       "        0.0000, 0.0000, 0.0000, 0.0606, 0.0000, 0.0606, 0.0000, 0.0000, 0.0000])"
      ]
     },
     "execution_count": 12,
     "metadata": {},
     "output_type": "execute_result"
    }
   ],
   "source": [
    "b"
   ]
  },
  {
   "cell_type": "markdown",
   "metadata": {},
   "source": [
    "# Thompson Sampling"
   ]
  },
  {
   "cell_type": "code",
   "execution_count": 70,
   "metadata": {},
   "outputs": [
    {
     "name": "stdout",
     "output_type": "stream",
     "text": [
      "Actual State:  ((2, 1, 2), (2, 1))\n",
      "argmax and max Belief:  ((1, 2, 3), (2, 1)) tensor(0.2000)\n",
      "Belief entropy:  2.321928024291992\n"
     ]
    },
    {
     "data": {
      "image/png": "[encoded data removed]",
      "text/plain": [
       "<Figure size 640x480 with 1 Axes>"
      ]
     },
     "metadata": {},
     "output_type": "display_data"
    },
    {
     "name": "stdout",
     "output_type": "stream",
     "text": [
      "Chosen action:  3\n",
      "Actual State:  ((2, 2, 1), (2, 1))\n",
      "argmax and max Belief:  ((2, 2, 1), (2, 1)) tensor(1.)\n",
      "Belief entropy:  -0.0\n"
     ]
    },
    {
     "data": {
      "image/png": "[encoded data removed]",
      "text/plain": [
       "<Figure size 640x480 with 1 Axes>"
      ]
     },
     "metadata": {},
     "output_type": "display_data"
    },
    {
     "name": "stdout",
     "output_type": "stream",
     "text": [
      "Chosen action:  1\n",
      "Actual State:  ((3, 2, 2), (2, 1))\n",
      "argmax and max Belief:  ((3, 2, 2), (2, 1)) tensor(1.)\n",
      "Belief entropy:  -0.0\n"
     ]
    },
    {
     "data": {
      "image/png": "[encoded data removed]",
      "text/plain": [
       "<Figure size 640x480 with 1 Axes>"
      ]
     },
     "metadata": {},
     "output_type": "display_data"
    },
    {
     "name": "stdout",
     "output_type": "stream",
     "text": [
      "Chosen action:  3\n",
      "Actual State:  ((3, 3, 1), (2, 1))\n",
      "argmax and max Belief:  ((3, 3, 1), (2, 1)) tensor(1.)\n",
      "Belief entropy:  -0.0\n"
     ]
    },
    {
     "data": {
      "image/png": "[encoded data removed]",
      "text/plain": [
       "<Figure size 640x480 with 1 Axes>"
      ]
     },
     "metadata": {},
     "output_type": "display_data"
    },
    {
     "name": "stdout",
     "output_type": "stream",
     "text": [
      "Chosen action:  0\n",
      "Actual State:  ((3, 4, 1), (2, 1))\n",
      "argmax and max Belief:  ((3, 4, 1), (2, 1)) tensor(1.)\n",
      "Belief entropy:  -0.0\n"
     ]
    },
    {
     "data": {
      "image/png": "[encoded data removed]",
      "text/plain": [
       "<Figure size 640x480 with 1 Axes>"
      ]
     },
     "metadata": {},
     "output_type": "display_data"
    },
    {
     "name": "stdout",
     "output_type": "stream",
     "text": [
      "Chosen action:  0\n",
      "Actual State:  ((3, 5, 1), (2, 1))\n",
      "argmax and max Belief:  ((3, 5, 1), (2, 1)) tensor(1.)\n",
      "Belief entropy:  -0.0\n"
     ]
    },
    {
     "data": {
      "image/png": "[encoded data removed]",
      "text/plain": [
       "<Figure size 640x480 with 1 Axes>"
      ]
     },
     "metadata": {},
     "output_type": "display_data"
    },
    {
     "name": "stdout",
     "output_type": "stream",
     "text": [
      "Chosen action:  0\n",
      "Actual State:  ((3, 6, 1), (2, 1))\n",
      "argmax and max Belief:  ((3, 6, 1), (2, 1)) tensor(1.)\n",
      "Belief entropy:  -0.0\n"
     ]
    },
    {
     "data": {
      "image/png": "[encoded data removed]",
      "text/plain": [
       "<Figure size 640x480 with 1 Axes>"
      ]
     },
     "metadata": {},
     "output_type": "display_data"
    },
    {
     "data": {
      "text/plain": [
       "np.float64(-1.5)"
      ]
     },
     "execution_count": 70,
     "metadata": {},
     "output_type": "execute_result"
    }
   ],
   "source": [
    "def eval_thompson_tabular(env : GridEnvDeform, Q, num_episodes=100, max_episode_steps=25, render=False):\n",
    "    total_rewards = []\n",
    "\n",
    "    for episode in range(num_episodes):\n",
    "        s, _ = env.reset()\n",
    "\n",
    "        obs = env.get_observation()\n",
    "\n",
    "        b_0 = torch.ones(len(states)) / len(states)   \n",
    "        b = update_belief(b_0, 0, obs_dict[tuple(obs)],T,O)\n",
    "\n",
    "        print(\"Actual State: \", s)\n",
    "        print(\"argmax and max Belief: \", states[torch.argmax(b)], torch.max(b))\n",
    "        print(\"Belief entropy: \", belief_entropy(b))\n",
    "\n",
    "\n",
    "        episode_reward = 0\n",
    "        done = False\n",
    "        c = max_episode_steps\n",
    "        while not done and c > 0:\n",
    "            if render:\n",
    "                env.render()\n",
    "\n",
    "            # Agent takes an action using a greedy policy (without exploration)\n",
    "            sampled_s = torch.multinomial(b, 1).item()\n",
    "            action = np.argmax(Q[sampled_s])\n",
    "            next_state, reward, done, _, info = env.step(action.item(), s, execute=render)\n",
    "            \n",
    "            s = next_state\n",
    "            next_obs = env.get_observation(next_state)\n",
    "\n",
    "            b_prime = update_belief(b, action, obs_dict[tuple(next_obs)],T,O)\n",
    "            b = b_prime\n",
    "\n",
    "            episode_reward += reward\n",
    "            \n",
    "            print(\"Chosen action: \", action)\n",
    "            print(\"Actual State: \", next_state)\n",
    "            print(\"argmax and max Belief: \", states[torch.argmax(b_prime)], torch.max(b_prime))\n",
    "            print(\"Belief entropy: \", belief_entropy(b_prime))\n",
    "\n",
    "\n",
    "            if done or c == 1:\n",
    "                total_rewards.append(episode_reward)\n",
    "                if done:\n",
    "                    env.render()\n",
    "                # print(f\"Episode {episode + 1}/{num_episodes}, Reward: {episode_reward}\")\n",
    "\n",
    "            c -= 1\n",
    "    avg_reward = np.mean(total_rewards)\n",
    "    # print(f\"Average Reward over {num_episodes} episodes: {avg_reward}\")\n",
    "    return avg_reward\n",
    "\n",
    "eval_thompson_tabular(env, Q, num_episodes=1,max_episode_steps=10, render=True)"
   ]
  },
  {
   "cell_type": "markdown",
   "metadata": {},
   "source": [
    "# DQN on Belif Space\n"
   ]
  },
  {
   "cell_type": "code",
   "execution_count": 5,
   "metadata": {},
   "outputs": [
    {
     "name": "stderr",
     "output_type": "stream",
     "text": [
      "  0%|          | 0/1000 [00:00<?, ?it/s]"
     ]
    },
    {
     "name": "stderr",
     "output_type": "stream",
     "text": [
      "  4%|▎         | 37/1000 [00:08<03:53,  4.12it/s]\n"
     ]
    },
    {
     "ename": "KeyboardInterrupt",
     "evalue": "",
     "output_type": "error",
     "traceback": [
      "\u001b[0;31m---------------------------------------------------------------------------\u001b[0m",
      "\u001b[0;31mKeyboardInterrupt\u001b[0m                         Traceback (most recent call last)",
      "Cell \u001b[0;32mIn[5], line 22\u001b[0m\n\u001b[1;32m     19\u001b[0m \u001b[38;5;28;01mwhile\u001b[39;00m \u001b[38;5;129;01mnot\u001b[39;00m done \u001b[38;5;129;01mand\u001b[39;00m steps \u001b[38;5;241m<\u001b[39m max_episode_steps:\n\u001b[1;32m     21\u001b[0m     \u001b[38;5;28;01mfor\u001b[39;00m action \u001b[38;5;129;01min\u001b[39;00m \u001b[38;5;28mrange\u001b[39m(\u001b[38;5;241m4\u001b[39m):\n\u001b[0;32m---> 22\u001b[0m         next_obs, reward, done, info \u001b[38;5;241m=\u001b[39m \u001b[43mpomdp_env\u001b[49m\u001b[38;5;241;43m.\u001b[39;49m\u001b[43mstep\u001b[49m\u001b[43m(\u001b[49m\u001b[43ms\u001b[49m\u001b[43m,\u001b[49m\u001b[43maction\u001b[49m\u001b[43m)\u001b[49m\n\u001b[1;32m     23\u001b[0m         b_prime \u001b[38;5;241m=\u001b[39m update_belief(b, action,obs,T,O)\n\u001b[1;32m     24\u001b[0m         agent\u001b[38;5;241m.\u001b[39mstore_transition(b, action, reward, b_prime, done)\n",
      "File \u001b[0;32m~/Desktop/RoboSurgery/src/environment/env.py:253\u001b[0m, in \u001b[0;36mPOMDPWrapper_v0.step\u001b[0;34m(self, s, a)\u001b[0m\n\u001b[1;32m    251\u001b[0m \u001b[38;5;28;01mdef\u001b[39;00m \u001b[38;5;21mstep\u001b[39m(\u001b[38;5;28mself\u001b[39m,s,a):\n\u001b[1;32m    252\u001b[0m     s_prime \u001b[38;5;241m=\u001b[39m torch\u001b[38;5;241m.\u001b[39margmax(\u001b[38;5;28mself\u001b[39m\u001b[38;5;241m.\u001b[39mT[s,a,:])\n\u001b[0;32m--> 253\u001b[0m     r \u001b[38;5;241m=\u001b[39m \u001b[38;5;28mself\u001b[39m\u001b[38;5;241m.\u001b[39mR[s,a,\u001b[43ms_prime\u001b[49m\u001b[38;5;241;43m.\u001b[39;49m\u001b[43mitem\u001b[49m\u001b[43m(\u001b[49m\u001b[43m)\u001b[49m]\n\u001b[1;32m    254\u001b[0m     obs \u001b[38;5;241m=\u001b[39m torch\u001b[38;5;241m.\u001b[39margmax(\u001b[38;5;28mself\u001b[39m\u001b[38;5;241m.\u001b[39mO[s_prime,\u001b[38;5;241m0\u001b[39m,:])\n\u001b[1;32m    255\u001b[0m     info \u001b[38;5;241m=\u001b[39m {\u001b[38;5;124m\"\u001b[39m\u001b[38;5;124mactual_state\u001b[39m\u001b[38;5;124m\"\u001b[39m: s_prime\u001b[38;5;241m.\u001b[39mitem()}\n",
      "\u001b[0;31mKeyboardInterrupt\u001b[0m: "
     ]
    }
   ],
   "source": [
    "num_episodes = 1000\n",
    "max_episode_steps = 100\n",
    "\n",
    "rewards = []\n",
    "evalrewards = []\n",
    "\n",
    "for episode in trange(num_episodes):\n",
    "    \n",
    "    obs, info = pomdp_env.reset()\n",
    "    s = info['actual_state']\n",
    "\n",
    "    b_0 = torch.ones(len(states)) / len(states)   \n",
    "    b = update_belief(b_0, 0, obs, T,O)\n",
    "    \n",
    "    episode_reward = 0\n",
    "    done = False\n",
    "    \n",
    "    steps = 0\n",
    "    while not done and steps < max_episode_steps:\n",
    "        \n",
    "        for action in range(4):\n",
    "            next_obs, reward, done, info = pomdp_env.step(s,action)\n",
    "            b_prime = update_belief(b, action,obs,T,O)\n",
    "            agent.store_transition(b, action, reward, b_prime, done)\n",
    "\n",
    "        action = agent.choose_action(b)\n",
    "        obs, reward, done, info = pomdp_env.step(s,action)\n",
    "        next_state = info['actual_state']\n",
    "        b_prime = update_belief(b, action,obs,T,O)\n",
    "\n",
    "\n",
    "        agent.train()\n",
    "        b = b_prime\n",
    "        s = next_state\n",
    "\n",
    "        episode_reward += reward\n",
    "        steps += 1        \n",
    "    \n",
    "    agent.update_epsilon()\n",
    "    rewards.append(episode_reward)\n",
    "            \n",
    "\n",
    "\n",
    "print(\"Training complete.\")\n"
   ]
  },
  {
   "cell_type": "code",
   "execution_count": null,
   "metadata": {},
   "outputs": [],
   "source": [
    "num_episodes = 1000\n",
    "max_episode_steps = 100\n",
    "\n",
    "rewards = []\n",
    "evalrewards = []\n",
    "\n",
    "for episode in trange(num_episodes):\n",
    "    \n",
    "    obs, info = pomdp_env.reset()\n",
    "    s = info['actual_state']\n",
    "\n",
    "    b_0 = torch.ones(len(states)) / len(states)   \n",
    "    b = update_belief(b_0, 0, obs, T,O)\n",
    "    \n",
    "    episode_reward = 0\n",
    "    done = False\n",
    "    \n",
    "    steps = 0\n",
    "    while not done and steps < max_episode_steps:\n",
    "        \n",
    "        for action in range(4):\n",
    "            next_obs, reward, done, info = pomdp_env.step(s,action)\n",
    "            b_prime = update_belief(b, action,obs,T,O)\n",
    "            agent.store_transition(b, action, reward, b_prime, done)\n",
    "\n",
    "        action = agent.choose_action(b)\n",
    "        obs, reward, done, info = pomdp_env.step(s,action)\n",
    "        next_state = info['actual_state']\n",
    "        b_prime = update_belief(b, action,obs,T,O)\n",
    "\n",
    "\n",
    "        agent.train()\n",
    "        b = b_prime\n",
    "        s = next_state\n",
    "\n",
    "        episode_reward += reward\n",
    "        steps += 1        \n",
    "    \n",
    "    agent.update_epsilon()\n",
    "    rewards.append(episode_reward)\n",
    "            \n",
    "\n",
    "\n",
    "print(\"Training complete.\")\n"
   ]
  }
 ],
 "metadata": {
  "kernelspec": {
   "display_name": "rob",
   "language": "python",
   "name": "python3"
  },
  "language_info": {
   "codemirror_mode": {
    "name": "ipython",
    "version": 3
   },
   "file_extension": ".py",
   "mimetype": "text/x-python",
   "name": "python",
   "nbconvert_exporter": "python",
   "pygments_lexer": "ipython3",
   "version": "3.9.19"
  }
 },
 "nbformat": 4,
 "nbformat_minor": 2
}
