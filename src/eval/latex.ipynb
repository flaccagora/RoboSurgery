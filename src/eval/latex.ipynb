{
 "cells": [
  {
   "cell_type": "code",
   "execution_count": null,
   "metadata": {},
   "outputs": [
    {
     "name": "stdout",
     "output_type": "stream",
     "text": [
      "LaTeX table for PPO saved to table_ppo.tex.\n",
      "\n",
      "\\begin{table}[h]\n",
      "    \\centering\n",
      "    \\begin{tabular}{lcccc}\n",
      "    \\toprule\n",
      "    \\textbf{Algorithm} & \\textbf{Avg. Reward} & \\textbf{Avg. Steps} & \\textbf{Belief Update} & \\textbf{Success Rate}\\\\\n",
      "    \\midrule\n",
      "    MDP (upper bound) & -21.843 & 30.534 & None & - \\\\\n",
      "    \\midrule\n",
      "    TS & -145.20 & 140.70 & Discrete (5) & 0.80 \\\\\n",
      "    TS & -16.60 & 33.20 & Discrete (10) & 1.00 \\\\\n",
      "    \\midrule\n",
      "    \\bottomrule\n",
      "    \\end{tabular}\n",
      "    \\caption{Performance comparison of different algorithms using PPO on the Maze task averaged over 1000 episodes. Success Rate is derived from the termination rate.}\n",
      "    \\label{tab:maze_results_ppo}\n",
      "\\end{table}\n"
     ]
    }
   ],
   "source": [
    "import pandas as pd\n",
    "\n",
    "# Load the CSV file\n",
    "file_path = \"../results.csv\"  # Update with the correct path if needed\n",
    "df = pd.read_csv(file_path)\n",
    "\n",
    "# Get unique model types\n",
    "model_types = df[\"model\"].unique()\n",
    "\n",
    "# Loop through each model type and create a separate table\n",
    "for model in model_types:\n",
    "    df_model = df[df[\"model\"] == model]  # Filter data for the specific model\n",
    "\n",
    "    # Start building the LaTeX table\n",
    "    latex_table = rf\"\"\"\\begin{{table}}[h]\n",
    "    \\centering\n",
    "    \\begin{{tabular}}{{lcccc}}\n",
    "    \\toprule\n",
    "    \\textbf{{Algorithm}} & \\textbf{{Avg. Reward}} & \\textbf{{Avg. Steps}} & \\textbf{{Belief Update}} & \\textbf{{Success Rate}}\\\\\n",
    "    \\midrule\n",
    "    MDP (upper bound) & -21.843 & 30.534 & None & - \\\\\n",
    "    \\midrule\n",
    "    \"\"\"\n",
    "\n",
    "    # Process each row to match the LaTeX table format\n",
    "    for _, row in df_model.iterrows():\n",
    "        belief_update = f\"Discrete ({row['discretization']})\"\n",
    "        success_rate = f\"{row['termination_rate']:.2f}\"\n",
    "        latex_table += f\"    {row['agent']} & {row['mean_episode_reward']:.2f} & {row['mean_episode_steps']:.2f} & {belief_update} & {success_rate} \\\\\\\\\\n\"\n",
    "\n",
    "    # Close the table structure\n",
    "    latex_table += rf\"\"\"    \\midrule\n",
    "    \\bottomrule\n",
    "    \\end{{tabular}}\n",
    "    \\caption{{Performance comparison of different algorithms using {model} on the Maze task averaged over 1000 episodes. Success Rate is derived from the termination rate.}}\n",
    "    \\label{{tab:maze_results_{model.lower()}}}\n",
    "\\end{{table}}\"\"\"\n",
    "\n",
    "    # Save the LaTeX table to a file\n",
    "    file_name = f\"table_{model.lower()}.tex\"\n",
    "    with open(file_name, \"w\") as f:\n",
    "        f.write(latex_table)\n",
    "\n",
    "    # Print the result\n",
    "    print(f\"LaTeX table for {model} saved to {file_name}.\\n\")\n",
    "    print(latex_table)\n"
   ]
  }
 ],
 "metadata": {
  "kernelspec": {
   "display_name": "robogym",
   "language": "python",
   "name": "python3"
  },
  "language_info": {
   "codemirror_mode": {
    "name": "ipython",
    "version": 3
   },
   "file_extension": ".py",
   "mimetype": "text/x-python",
   "name": "python",
   "nbconvert_exporter": "python",
   "pygments_lexer": "ipython3",
   "version": "3.11.10"
  }
 },
 "nbformat": 4,
 "nbformat_minor": 2
}
